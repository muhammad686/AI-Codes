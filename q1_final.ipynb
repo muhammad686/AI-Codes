{
 "cells": [
  {
   "cell_type": "code",
   "execution_count": 272,
   "id": "5f4ab4b7",
   "metadata": {},
   "outputs": [],
   "source": [
    "%matplotlib inline \n",
    "import pandas as pd\n",
    "import numpy as np\n",
    "import matplotlib.pyplot as plt\n",
    "import seaborn as sn\n",
    "from sklearn.model_selection import train_test_split\n",
    "from sklearn.neighbors import KNeighborsClassifier\n",
    "from sklearn.linear_model import LogisticRegression\n",
    "from scipy.stats import zscore\n",
    "import random"
   ]
  },
  {
   "cell_type": "code",
   "execution_count": 273,
   "id": "e2283814",
   "metadata": {},
   "outputs": [
    {
     "data": {
      "text/html": [
       "<div>\n",
       "<style scoped>\n",
       "    .dataframe tbody tr th:only-of-type {\n",
       "        vertical-align: middle;\n",
       "    }\n",
       "\n",
       "    .dataframe tbody tr th {\n",
       "        vertical-align: top;\n",
       "    }\n",
       "\n",
       "    .dataframe thead th {\n",
       "        text-align: right;\n",
       "    }\n",
       "</style>\n",
       "<table border=\"1\" class=\"dataframe\">\n",
       "  <thead>\n",
       "    <tr style=\"text-align: right;\">\n",
       "      <th></th>\n",
       "      <th>PassengerId</th>\n",
       "      <th>Survived</th>\n",
       "      <th>Pclass</th>\n",
       "      <th>Sex</th>\n",
       "      <th>Fare</th>\n",
       "      <th>Age</th>\n",
       "      <th>SibSp</th>\n",
       "      <th>Parch</th>\n",
       "    </tr>\n",
       "  </thead>\n",
       "  <tbody>\n",
       "    <tr>\n",
       "      <th>0</th>\n",
       "      <td>1</td>\n",
       "      <td>0</td>\n",
       "      <td>3</td>\n",
       "      <td>1</td>\n",
       "      <td>7.2500</td>\n",
       "      <td>22.0</td>\n",
       "      <td>1</td>\n",
       "      <td>0</td>\n",
       "    </tr>\n",
       "    <tr>\n",
       "      <th>1</th>\n",
       "      <td>2</td>\n",
       "      <td>1</td>\n",
       "      <td>1</td>\n",
       "      <td>2</td>\n",
       "      <td>71.2833</td>\n",
       "      <td>38.0</td>\n",
       "      <td>1</td>\n",
       "      <td>0</td>\n",
       "    </tr>\n",
       "    <tr>\n",
       "      <th>2</th>\n",
       "      <td>3</td>\n",
       "      <td>1</td>\n",
       "      <td>3</td>\n",
       "      <td>2</td>\n",
       "      <td>7.9250</td>\n",
       "      <td>26.0</td>\n",
       "      <td>0</td>\n",
       "      <td>0</td>\n",
       "    </tr>\n",
       "    <tr>\n",
       "      <th>3</th>\n",
       "      <td>4</td>\n",
       "      <td>1</td>\n",
       "      <td>1</td>\n",
       "      <td>2</td>\n",
       "      <td>53.1000</td>\n",
       "      <td>35.0</td>\n",
       "      <td>1</td>\n",
       "      <td>0</td>\n",
       "    </tr>\n",
       "    <tr>\n",
       "      <th>4</th>\n",
       "      <td>5</td>\n",
       "      <td>0</td>\n",
       "      <td>3</td>\n",
       "      <td>1</td>\n",
       "      <td>8.0500</td>\n",
       "      <td>35.0</td>\n",
       "      <td>0</td>\n",
       "      <td>0</td>\n",
       "    </tr>\n",
       "  </tbody>\n",
       "</table>\n",
       "</div>"
      ],
      "text/plain": [
       "   PassengerId  Survived  Pclass  Sex     Fare   Age  SibSp  Parch\n",
       "0            1         0       3    1   7.2500  22.0      1      0\n",
       "1            2         1       1    2  71.2833  38.0      1      0\n",
       "2            3         1       3    2   7.9250  26.0      0      0\n",
       "3            4         1       1    2  53.1000  35.0      1      0\n",
       "4            5         0       3    1   8.0500  35.0      0      0"
      ]
     },
     "execution_count": 273,
     "metadata": {},
     "output_type": "execute_result"
    }
   ],
   "source": [
    "titanic_data = pd.read_csv('C:/Users/taham/Desktop/7th semester/AI by Sir Ayyaz/Assignments/Titanic_data_Set.csv')\n",
    "titanic_data.head()"
   ]
  },
  {
   "cell_type": "code",
   "execution_count": 274,
   "id": "eba864eb",
   "metadata": {},
   "outputs": [],
   "source": [
    "X = titanic_data.drop('Survived',axis=1)\n",
    "Y = titanic_data['Survived']\n",
    "# Y.shape"
   ]
  },
  {
   "cell_type": "code",
   "execution_count": 275,
   "id": "ae956124",
   "metadata": {},
   "outputs": [],
   "source": [
    "X_train, X_test, Y_train, Y_test = train_test_split(X, Y, test_size=0.30, random_state=1)"
   ]
  },
  {
   "cell_type": "code",
   "execution_count": 276,
   "id": "51b3c398",
   "metadata": {},
   "outputs": [
    {
     "data": {
      "text/html": [
       "<div>\n",
       "<style scoped>\n",
       "    .dataframe tbody tr th:only-of-type {\n",
       "        vertical-align: middle;\n",
       "    }\n",
       "\n",
       "    .dataframe tbody tr th {\n",
       "        vertical-align: top;\n",
       "    }\n",
       "\n",
       "    .dataframe thead th {\n",
       "        text-align: right;\n",
       "    }\n",
       "</style>\n",
       "<table border=\"1\" class=\"dataframe\">\n",
       "  <thead>\n",
       "    <tr style=\"text-align: right;\">\n",
       "      <th></th>\n",
       "      <th>PassengerId</th>\n",
       "      <th>Pclass</th>\n",
       "      <th>Sex</th>\n",
       "      <th>Fare</th>\n",
       "      <th>Age</th>\n",
       "      <th>SibSp</th>\n",
       "      <th>Parch</th>\n",
       "    </tr>\n",
       "  </thead>\n",
       "  <tbody>\n",
       "    <tr>\n",
       "      <th>114</th>\n",
       "      <td>115</td>\n",
       "      <td>3</td>\n",
       "      <td>2</td>\n",
       "      <td>14.4583</td>\n",
       "      <td>17.0</td>\n",
       "      <td>0</td>\n",
       "      <td>0</td>\n",
       "    </tr>\n",
       "    <tr>\n",
       "      <th>874</th>\n",
       "      <td>875</td>\n",
       "      <td>2</td>\n",
       "      <td>2</td>\n",
       "      <td>24.0000</td>\n",
       "      <td>28.0</td>\n",
       "      <td>1</td>\n",
       "      <td>0</td>\n",
       "    </tr>\n",
       "    <tr>\n",
       "      <th>76</th>\n",
       "      <td>77</td>\n",
       "      <td>3</td>\n",
       "      <td>1</td>\n",
       "      <td>7.8958</td>\n",
       "      <td>59.0</td>\n",
       "      <td>0</td>\n",
       "      <td>0</td>\n",
       "    </tr>\n",
       "    <tr>\n",
       "      <th>876</th>\n",
       "      <td>877</td>\n",
       "      <td>3</td>\n",
       "      <td>1</td>\n",
       "      <td>9.8458</td>\n",
       "      <td>20.0</td>\n",
       "      <td>0</td>\n",
       "      <td>0</td>\n",
       "    </tr>\n",
       "    <tr>\n",
       "      <th>674</th>\n",
       "      <td>675</td>\n",
       "      <td>2</td>\n",
       "      <td>1</td>\n",
       "      <td>0.0000</td>\n",
       "      <td>24.0</td>\n",
       "      <td>0</td>\n",
       "      <td>0</td>\n",
       "    </tr>\n",
       "    <tr>\n",
       "      <th>...</th>\n",
       "      <td>...</td>\n",
       "      <td>...</td>\n",
       "      <td>...</td>\n",
       "      <td>...</td>\n",
       "      <td>...</td>\n",
       "      <td>...</td>\n",
       "      <td>...</td>\n",
       "    </tr>\n",
       "    <tr>\n",
       "      <th>715</th>\n",
       "      <td>716</td>\n",
       "      <td>3</td>\n",
       "      <td>1</td>\n",
       "      <td>7.6500</td>\n",
       "      <td>19.0</td>\n",
       "      <td>0</td>\n",
       "      <td>0</td>\n",
       "    </tr>\n",
       "    <tr>\n",
       "      <th>767</th>\n",
       "      <td>768</td>\n",
       "      <td>3</td>\n",
       "      <td>2</td>\n",
       "      <td>7.7500</td>\n",
       "      <td>30.5</td>\n",
       "      <td>0</td>\n",
       "      <td>0</td>\n",
       "    </tr>\n",
       "    <tr>\n",
       "      <th>72</th>\n",
       "      <td>73</td>\n",
       "      <td>2</td>\n",
       "      <td>1</td>\n",
       "      <td>73.5000</td>\n",
       "      <td>21.0</td>\n",
       "      <td>0</td>\n",
       "      <td>0</td>\n",
       "    </tr>\n",
       "    <tr>\n",
       "      <th>235</th>\n",
       "      <td>236</td>\n",
       "      <td>3</td>\n",
       "      <td>2</td>\n",
       "      <td>7.5500</td>\n",
       "      <td>30.0</td>\n",
       "      <td>0</td>\n",
       "      <td>0</td>\n",
       "    </tr>\n",
       "    <tr>\n",
       "      <th>37</th>\n",
       "      <td>38</td>\n",
       "      <td>3</td>\n",
       "      <td>1</td>\n",
       "      <td>8.0500</td>\n",
       "      <td>21.0</td>\n",
       "      <td>0</td>\n",
       "      <td>0</td>\n",
       "    </tr>\n",
       "  </tbody>\n",
       "</table>\n",
       "<p>623 rows × 7 columns</p>\n",
       "</div>"
      ],
      "text/plain": [
       "     PassengerId  Pclass  Sex     Fare   Age  SibSp  Parch\n",
       "114          115       3    2  14.4583  17.0      0      0\n",
       "874          875       2    2  24.0000  28.0      1      0\n",
       "76            77       3    1   7.8958  59.0      0      0\n",
       "876          877       3    1   9.8458  20.0      0      0\n",
       "674          675       2    1   0.0000  24.0      0      0\n",
       "..           ...     ...  ...      ...   ...    ...    ...\n",
       "715          716       3    1   7.6500  19.0      0      0\n",
       "767          768       3    2   7.7500  30.5      0      0\n",
       "72            73       2    1  73.5000  21.0      0      0\n",
       "235          236       3    2   7.5500  30.0      0      0\n",
       "37            38       3    1   8.0500  21.0      0      0\n",
       "\n",
       "[623 rows x 7 columns]"
      ]
     },
     "execution_count": 276,
     "metadata": {},
     "output_type": "execute_result"
    }
   ],
   "source": [
    "X_train"
   ]
  },
  {
   "cell_type": "code",
   "execution_count": 277,
   "id": "eb6a616f",
   "metadata": {},
   "outputs": [],
   "source": [
    "x_noraml = ['PassengerId','Sex','Pclass','Fare','Age','SibSp','Parch']\n",
    "# y_normal =Y\n",
    "X_train= X[x_noraml]\n",
    "# Y_train=Y[y_normal]"
   ]
  },
  {
   "cell_type": "code",
   "execution_count": 278,
   "id": "f0a01d85",
   "metadata": {},
   "outputs": [
    {
     "data": {
      "text/plain": [
       "['PassengerId', 'Sex', 'Pclass', 'Fare', 'Age', 'SibSp', 'Parch']"
      ]
     },
     "execution_count": 278,
     "metadata": {},
     "output_type": "execute_result"
    }
   ],
   "source": [
    "X_train = X_train[x_noraml].apply( lambda rec:(rec - rec.mean())/rec.std(), axis =0)\n",
    "X_train.head(10)\n",
    "list(X_train)"
   ]
  },
  {
   "cell_type": "code",
   "execution_count": 279,
   "id": "7409b8f3",
   "metadata": {},
   "outputs": [
    {
     "data": {
      "text/plain": [
       "array([[-1.7291368 , -0.73728105,  0.82691282, -0.50216314, -0.53546848,\n",
       "         0.43255043, -0.47340772],\n",
       "       [-1.7252511 ,  1.35481262, -1.56522783,  0.78640362,  0.54160028,\n",
       "         0.43255043, -0.47340772],\n",
       "       [-1.7213654 ,  1.35481262,  0.82691282, -0.48857985, -0.26620129,\n",
       "        -0.47427882, -0.47340772],\n",
       "       [-1.7174797 ,  1.35481262, -1.56522783,  0.42049407,  0.33964988,\n",
       "         0.43255043, -0.47340772],\n",
       "       [-1.713594  , -0.73728105,  0.82691282, -0.48606443,  0.33964988,\n",
       "        -0.47427882, -0.47340772]])"
      ]
     },
     "execution_count": 279,
     "metadata": {},
     "output_type": "execute_result"
    }
   ],
   "source": [
    "X_train = np.array(X_train)\n",
    "X_train[0:5]"
   ]
  },
  {
   "cell_type": "code",
   "execution_count": 439,
   "id": "eabc8249",
   "metadata": {},
   "outputs": [
    {
     "name": "stdout",
     "output_type": "stream",
     "text": [
      "0.10098375822036398 [0.597043   0.0615095  0.69717571 0.68161636 0.9503744  0.03285917\n",
      " 0.09493191]\n"
     ]
    }
   ],
   "source": [
    "import random\n",
    "def betas(d):\n",
    "    b = random.random()\n",
    "    w = np.random.rand(d)\n",
    "    return b,w \n",
    "b,w = betas(X_train.shape[1])\n",
    "print(b,w)"
   ]
  },
  {
   "cell_type": "code",
   "execution_count": 443,
   "id": "f2c8d95b",
   "metadata": {},
   "outputs": [],
   "source": [
    "b,w = betas(X_test.shape[1])\n"
   ]
  },
  {
   "cell_type": "code",
   "execution_count": 282,
   "id": "53d89956",
   "metadata": {},
   "outputs": [
    {
     "data": {
      "text/plain": [
       "(7,)"
      ]
     },
     "execution_count": 282,
     "metadata": {},
     "output_type": "execute_result"
    }
   ],
   "source": [
    "w.shape"
   ]
  },
  {
   "cell_type": "code",
   "execution_count": 444,
   "id": "09279619",
   "metadata": {},
   "outputs": [],
   "source": [
    "def sig(x, w ,X_train):\n",
    "    Z = x + np.matmul(X_train,w)\n",
    "    return (1.0 / (1 + np.exp(-Z)))  \n"
   ]
  },
  {
   "cell_type": "code",
   "execution_count": 447,
   "id": "6971948d",
   "metadata": {},
   "outputs": [],
   "source": [
    "def sig(x, w ,X_test):\n",
    "    Z = x + np.matmul(X_test,w)\n",
    "    return (1.0 / (1 + np.exp(-Z)))  \n"
   ]
  },
  {
   "cell_type": "code",
   "execution_count": 448,
   "id": "65cc8c79",
   "metadata": {},
   "outputs": [
    {
     "data": {
      "text/plain": [
       "array([0.40662541, 0.41386169, 0.5278692 , 0.36556982, 0.52107751,\n",
       "       0.42935753, 0.42780304, 0.29222553, 0.55354828, 0.27716608])"
      ]
     },
     "execution_count": 448,
     "metadata": {},
     "output_type": "execute_result"
    }
   ],
   "source": [
    "y_not = sig(x,w,X_train)\n",
    "y_not[0:10]"
   ]
  },
  {
   "cell_type": "code",
   "execution_count": 449,
   "id": "f86d2422",
   "metadata": {},
   "outputs": [
    {
     "data": {
      "text/plain": [
       "862    1.0\n",
       "223    1.0\n",
       "84     1.0\n",
       "680    1.0\n",
       "535    1.0\n",
       "623    1.0\n",
       "148    1.0\n",
       "3      1.0\n",
       "34     1.0\n",
       "241    1.0\n",
       "dtype: float64"
      ]
     },
     "execution_count": 449,
     "metadata": {},
     "output_type": "execute_result"
    }
   ],
   "source": [
    "y_not = sig(x,w,X_test)\n",
    "y_not[0:10]"
   ]
  },
  {
   "cell_type": "code",
   "execution_count": 477,
   "id": "8c6fc0c2",
   "metadata": {},
   "outputs": [],
   "source": [
    "def cost( y, y_not):\n",
    "        return - np.sum(np.dot(y.T,np.log(1-y_not)+ np.dot((1-y).T,np.log(1-y_not)))) / ( len(y))\n"
   ]
  },
  {
   "cell_type": "code",
   "execution_count": 485,
   "id": "b9ac6882",
   "metadata": {},
   "outputs": [
    {
     "data": {
      "text/plain": [
       "pandas.core.series.Series"
      ]
     },
     "execution_count": 485,
     "metadata": {},
     "output_type": "execute_result"
    }
   ],
   "source": [
    "lr = 0.01\n",
    "type(y_not)"
   ]
  },
  {
   "cell_type": "code",
   "execution_count": 486,
   "id": "cf3236a2",
   "metadata": {},
   "outputs": [
    {
     "data": {
      "text/plain": [
       "()"
      ]
     },
     "execution_count": 486,
     "metadata": {},
     "output_type": "execute_result"
    }
   ],
   "source": [
    "x,w = betaUpdate(x,w, Y, y_not,X_train, lr)\n",
    "\n",
    "x.shape"
   ]
  },
  {
   "cell_type": "code",
   "execution_count": 491,
   "id": "5266b2ff",
   "metadata": {},
   "outputs": [
    {
     "name": "stdout",
     "output_type": "stream",
     "text": [
      "initial Estimates of x and w:  0.5345229151920199 [0.56422144 0.21197295 0.8135057  0.98449326 0.41011093 0.96305426\n",
      " 0.18394772]\n",
      "Iteration:  0 Cost:  249.14397155638966\n",
      "Iteration:  10 Cost:  246.50919241105197\n",
      "Iteration:  20 Cost:  243.94270283824028\n",
      "Iteration:  30 Cost:  241.44238074220834\n",
      "Iteration:  40 Cost:  239.00616824251895\n",
      "Iteration:  50 Cost:  236.63207257990467\n",
      "Iteration:  60 Cost:  234.31816664038044\n",
      "Iteration:  70 Cost:  232.06258912886258\n",
      "Iteration:  80 Cost:  229.86354442242296\n",
      "Iteration:  90 Cost:  227.7193021323414\n",
      "Iteration:  100 Cost:  225.62819640304286\n",
      "Iteration:  110 Cost:  223.5886249750683\n",
      "Iteration:  120 Cost:  221.5990480382266\n",
      "Iteration:  130 Cost:  219.65798690008853\n",
      "Iteration:  140 Cost:  217.76402249395593\n",
      "Iteration:  150 Cost:  215.91579374935296\n",
      "Iteration:  160 Cost:  214.11199584695044\n",
      "Iteration:  170 Cost:  212.35137837862572\n",
      "Iteration:  180 Cost:  210.63274343210776\n",
      "Iteration:  190 Cost:  208.9549436183606\n",
      "Iteration:  200 Cost:  207.3168800585366\n",
      "Iteration:  210 Cost:  205.7175003459968\n",
      "Iteration:  220 Cost:  204.1557964975736\n",
      "Iteration:  230 Cost:  202.63080290694992\n",
      "Iteration:  240 Cost:  201.14159431176114\n",
      "Iteration:  250 Cost:  199.68728378481114\n",
      "Iteration:  260 Cost:  198.26702075863074\n",
      "Iteration:  270 Cost:  196.87998909149752\n",
      "Iteration:  280 Cost:  195.52540518200007\n",
      "Iteration:  290 Cost:  194.20251613824837\n",
      "Iteration:  300 Cost:  192.9105980069063\n",
      "Iteration:  310 Cost:  191.6489540663656\n",
      "Iteration:  320 Cost:  190.41691318756014\n",
      "Iteration:  330 Cost:  189.2138282651589\n",
      "Iteration:  340 Cost:  188.03907472114355\n",
      "Iteration:  350 Cost:  186.89204908209658\n",
      "Iteration:  360 Cost:  185.77216763085823\n",
      "Iteration:  370 Cost:  184.67886513259364\n",
      "Iteration:  380 Cost:  183.61159363470526\n",
      "Iteration:  390 Cost:  182.5698213394573\n",
      "Iteration:  400 Cost:  181.55303154763666\n",
      "Iteration:  410 Cost:  180.56072167106788\n",
      "Iteration:  420 Cost:  179.59240231132705\n",
      "Iteration:  430 Cost:  178.64759640157703\n",
      "Iteration:  440 Cost:  177.7258384080724\n",
      "Iteration:  450 Cost:  176.82667358757124\n",
      "Iteration:  460 Cost:  175.9496572966504\n",
      "Iteration:  470 Cost:  175.09435434875854\n",
      "Iteration:  480 Cost:  174.26033841476823\n",
      "Iteration:  490 Cost:  173.44719146280522\n",
      "Iteration:  500 Cost:  172.65450323325751\n",
      "Iteration:  510 Cost:  171.88187074508113\n",
      "Iteration:  520 Cost:  171.12889782984692\n",
      "Iteration:  530 Cost:  170.39519469038453\n",
      "Iteration:  540 Cost:  169.68037748138735\n",
      "Iteration:  550 Cost:  168.9840679099164\n",
      "Iteration:  560 Cost:  168.30589285437733\n",
      "Iteration:  570 Cost:  167.64548400121137\n",
      "Iteration:  580 Cost:  167.00247749922207\n",
      "Iteration:  590 Cost:  166.3765136321186\n",
      "Iteration:  600 Cost:  165.76723651047521\n",
      "Iteration:  610 Cost:  165.17429378484707\n",
      "Iteration:  620 Cost:  164.5973363822243\n",
      "Iteration:  630 Cost:  164.03601826832156\n",
      "Iteration:  640 Cost:  163.48999623837474\n",
      "Iteration:  650 Cost:  162.9589297391293\n",
      "Iteration:  660 Cost:  162.4424807245603\n",
      "Iteration:  670 Cost:  161.94031354755634\n",
      "Iteration:  680 Cost:  161.45209488934375\n",
      "Iteration:  690 Cost:  160.97749372783895\n",
      "Iteration:  700 Cost:  160.51618134542397\n",
      "Iteration:  710 Cost:  160.06783137587252\n",
      "Iteration:  720 Cost:  159.63211988934307\n",
      "Iteration:  730 Cost:  159.20872551354663\n",
      "Iteration:  740 Cost:  158.7973295884142\n",
      "Iteration:  750 Cost:  158.39761635087973\n",
      "Iteration:  760 Cost:  158.00927314577567\n",
      "Iteration:  770 Cost:  157.63199065834314\n",
      "Iteration:  780 Cost:  157.26546316349845\n",
      "Iteration:  790 Cost:  156.9093887867858\n",
      "Iteration:  800 Cost:  156.5634697718778\n",
      "Iteration:  810 Cost:  156.22741274956627\n",
      "Iteration:  820 Cost:  155.9009290033919\n",
      "Iteration:  830 Cost:  155.58373472738805\n",
      "Iteration:  840 Cost:  155.2755512718339\n",
      "Iteration:  850 Cost:  154.97610537340483\n",
      "Iteration:  860 Cost:  154.68512936665442\n",
      "Iteration:  870 Cost:  154.4023613743349\n",
      "Iteration:  880 Cost:  154.12754547464348\n",
      "Iteration:  890 Cost:  153.86043184405173\n",
      "Iteration:  900 Cost:  153.60077687491864\n",
      "Iteration:  910 Cost:  153.34834326758903\n",
      "Iteration:  920 Cost:  153.102900097135\n",
      "Iteration:  930 Cost:  152.8642228552962\n",
      "Iteration:  940 Cost:  152.63209346851053\n",
      "Iteration:  950 Cost:  152.40630029321335\n",
      "Iteration:  960 Cost:  152.1866380897969\n",
      "Iteration:  970 Cost:  151.97290797679176\n",
      "Iteration:  980 Cost:  151.76491736694373\n",
      "Iteration:  990 Cost:  151.56247988692704\n",
      "Final Estimates of  x and w are:\n",
      "  0.5345229151920199 [ 0.12202734  1.11422434 -0.14985819  1.0508676  -0.01418704 -0.04418306\n",
      " -0.19898775]\n"
     ]
    }
   ],
   "source": [
    "iterations = 1000\n",
    "lr = 0.01\n",
    "\n",
    "total_costs = []\n",
    "x,w = betas(X_train.shape[1])\n",
    "print(\"initial Estimates of x and w: \" , x ,w)\n",
    "\n",
    "for i in range (iterations ):\n",
    "    y_not = sig(x, w , X_train)\n",
    "    get_cost = cost (Y, y_not)\n",
    "    pb = b\n",
    "    pw = w\n",
    "    b, w = betaUpdate (pb, pw, Y, y_not, X_train, lr)\n",
    "    total_costs.append(get_cost)\n",
    "    if i % 10 == 0:\n",
    "        print('Iteration: ', i, 'Cost: ', get_cost)\n",
    "        i += 1\n",
    "    \n",
    "print(\"Final Estimates of  x and w are:\\n \", x,w)"
   ]
  },
  {
   "cell_type": "code",
   "execution_count": 492,
   "id": "5f791cdb",
   "metadata": {},
   "outputs": [
    {
     "data": {
      "text/plain": [
       "999"
      ]
     },
     "execution_count": 492,
     "metadata": {},
     "output_type": "execute_result"
    },
    {
     "data": {
      "image/png": "[encoded data removed]",
      "text/plain": [
       "<Figure size 640x480 with 1 Axes>"
      ]
     },
     "metadata": {},
     "output_type": "display_data"
    }
   ],
   "source": [
    "lmodel = LogisticRegression().fit(X_train, Y)\n",
    "lmodel.intercept_\n",
    "\n",
    "lmodel.coef_\n",
    "\n",
    "plt.scatter( range(iterations), total_costs)\n",
    "\n",
    "len(range(i))"
   ]
  },
  {
   "cell_type": "code",
   "execution_count": 494,
   "id": "d3924de4",
   "metadata": {},
   "outputs": [
    {
     "name": "stdout",
     "output_type": "stream",
     "text": [
      "initial Estimates of x and w:  0.7194332464627968 [0.05867729 0.60333373 0.51670025 0.38188108 0.61012204 0.77450502\n",
      " 0.39361655]\n",
      "Iteration:  0 Cost:  247.84048999089592\n",
      "Iteration:  10 Cost:  229.84298125896487\n",
      "Iteration:  20 Cost:  215.41222533227293\n",
      "Iteration:  30 Cost:  203.75312624228317\n",
      "Iteration:  40 Cost:  194.36906622665032\n",
      "Iteration:  50 Cost:  186.89943186400154\n",
      "Iteration:  60 Cost:  181.03877861208122\n",
      "Iteration:  70 Cost:  176.49914109306604\n",
      "Iteration:  80 Cost:  173.00216536784927\n",
      "Iteration:  90 Cost:  170.29659455520772\n",
      "Iteration:  100 Cost:  168.1785969274701\n",
      "Iteration:  110 Cost:  166.49602139108063\n",
      "Iteration:  120 Cost:  165.1397286053599\n",
      "Iteration:  130 Cost:  164.03192285445138\n",
      "Iteration:  140 Cost:  163.1165197808699\n",
      "Iteration:  150 Cost:  162.35236571421586\n",
      "Iteration:  160 Cost:  161.70870274025177\n",
      "Iteration:  170 Cost:  161.16215175583332\n",
      "Iteration:  180 Cost:  160.69467717860053\n",
      "Iteration:  190 Cost:  160.29218526525295\n",
      "Iteration:  200 Cost:  159.943537799463\n",
      "Iteration:  210 Cost:  159.63984406690835\n",
      "Iteration:  220 Cost:  159.37394354639142\n",
      "Iteration:  230 Cost:  159.14002210266023\n",
      "Iteration:  240 Cost:  158.93332341372044\n",
      "Iteration:  250 Cost:  158.7499294648224\n",
      "Iteration:  260 Cost:  158.5865918544675\n",
      "Iteration:  270 Cost:  158.44060095247184\n",
      "Iteration:  280 Cost:  158.30968356722678\n",
      "Iteration:  290 Cost:  158.19192229638767\n",
      "Iteration:  300 Cost:  158.0856915154363\n",
      "Iteration:  310 Cost:  157.98960623558034\n",
      "Iteration:  320 Cost:  157.90248098995988\n",
      "Iteration:  330 Cost:  157.82329658822144\n",
      "Iteration:  340 Cost:  157.7511730845887\n",
      "Iteration:  350 Cost:  157.68534768242034\n",
      "Iteration:  360 Cost:  157.62515658322687\n",
      "Iteration:  370 Cost:  157.5700200046552\n",
      "Iteration:  380 Cost:  157.51942975761733\n",
      "Iteration:  390 Cost:  157.47293890031315\n",
      "Iteration:  400 Cost:  157.43015308573757\n",
      "Iteration:  410 Cost:  157.39072329628252\n",
      "Iteration:  420 Cost:  157.35433971939716\n",
      "Iteration:  430 Cost:  157.32072656580644\n",
      "Iteration:  440 Cost:  157.2896376694214\n",
      "Iteration:  450 Cost:  157.26085273801272\n",
      "Iteration:  460 Cost:  157.23417414764384\n",
      "Iteration:  470 Cost:  157.20942419306647\n",
      "Iteration:  480 Cost:  157.1864427217629\n",
      "Iteration:  490 Cost:  157.1650850918572\n",
      "Iteration:  500 Cost:  157.14522040430137\n",
      "Iteration:  510 Cost:  157.12672996805608\n",
      "Iteration:  520 Cost:  157.1095059637903\n",
      "Iteration:  530 Cost:  157.09345027721668\n",
      "Iteration:  540 Cost:  157.07847347779304\n",
      "Iteration:  550 Cost:  157.06449392233247\n",
      "Iteration:  560 Cost:  157.05143696623503\n",
      "Iteration:  570 Cost:  157.03923426768623\n",
      "Iteration:  580 Cost:  157.0278231723702\n",
      "Iteration:  590 Cost:  157.01714616808914\n",
      "Iteration:  600 Cost:  157.00715040022493\n",
      "Iteration:  610 Cost:  156.99778724028496\n",
      "Iteration:  620 Cost:  156.98901190087062\n",
      "Iteration:  630 Cost:  156.98078309133868\n",
      "Iteration:  640 Cost:  156.97306270921462\n",
      "Iteration:  650 Cost:  156.96581556308712\n",
      "Iteration:  660 Cost:  156.9590091232847\n",
      "Iteration:  670 Cost:  156.9526132971236\n",
      "Iteration:  680 Cost:  156.9466002259344\n",
      "Iteration:  690 Cost:  156.9409441014305\n",
      "Iteration:  700 Cost:  156.93562099929306\n",
      "Iteration:  710 Cost:  156.93060872810975\n",
      "Iteration:  720 Cost:  156.9258866920324\n",
      "Iteration:  730 Cost:  156.92143576571974\n",
      "Iteration:  740 Cost:  156.91723818029942\n",
      "Iteration:  750 Cost:  156.91327741923388\n",
      "Iteration:  760 Cost:  156.9095381231028\n",
      "Iteration:  770 Cost:  156.90600600242865\n",
      "Iteration:  780 Cost:  156.9026677577685\n",
      "Iteration:  790 Cost:  156.8995110063826\n",
      "Iteration:  800 Cost:  156.89652421486454\n",
      "Iteration:  810 Cost:  156.89369663718367\n",
      "Iteration:  820 Cost:  156.89101825764965\n",
      "Iteration:  830 Cost:  156.888479738358\n",
      "Iteration:  840 Cost:  156.8860723707233\n",
      "Iteration:  850 Cost:  156.88378803074326\n",
      "Iteration:  860 Cost:  156.8816191376757\n",
      "Iteration:  870 Cost:  156.87955861583876\n",
      "Iteration:  880 Cost:  156.87759985927357\n",
      "Iteration:  890 Cost:  156.87573669903446\n",
      "Iteration:  900 Cost:  156.87396337289135\n",
      "Iteration:  910 Cost:  156.87227449725168\n",
      "Iteration:  920 Cost:  156.87066504112343\n",
      "Iteration:  930 Cost:  156.86913030196033\n",
      "Iteration:  940 Cost:  156.86766588324073\n",
      "Iteration:  950 Cost:  156.8662676736485\n",
      "Iteration:  960 Cost:  156.86493182773094\n",
      "Iteration:  970 Cost:  156.8636547479237\n",
      "Iteration:  980 Cost:  156.8624330678396\n",
      "Iteration:  990 Cost:  156.86126363672636\n",
      "Final Estimates of  x and w are:\n",
      "  0.7194332464627968 [ 0.04874198  1.63029795 -0.6810638   0.74929799 -0.42292801 -0.40601669\n",
      " -0.25433347]\n"
     ]
    }
   ],
   "source": [
    "iterations = 1000\n",
    "lr = 0.1\n",
    "\n",
    "total_costs = []\n",
    "x,w = betas(X_train.shape[1])\n",
    "print(\"initial Estimates of x and w: \" , x ,w)\n",
    "\n",
    "for i in range (iterations ):\n",
    "    y_not = sig(x, w , X_train)\n",
    "    get_cost = cost (Y, y_not)\n",
    "    pb = b\n",
    "    pw = w\n",
    "    b, w = betaUpdate (pb, pw, Y, y_not, X_train, lr)\n",
    "    total_costs.append(get_cost)\n",
    "    if i % 10 == 0:\n",
    "        print('Iteration: ', i, 'Cost: ', get_cost)\n",
    "        i += 1\n",
    "    \n",
    "print(\"Final Estimates of  x and w are:\\n \", x,w)"
   ]
  },
  {
   "cell_type": "code",
   "execution_count": 495,
   "id": "03da97ed",
   "metadata": {},
   "outputs": [
    {
     "data": {
      "text/plain": [
       "999"
      ]
     },
     "execution_count": 495,
     "metadata": {},
     "output_type": "execute_result"
    },
    {
     "data": {
      "image/png": "[encoded data removed]",
      "text/plain": [
       "<Figure size 640x480 with 1 Axes>"
      ]
     },
     "metadata": {},
     "output_type": "display_data"
    }
   ],
   "source": [
    "lmodel = LogisticRegression().fit(X_train, Y)\n",
    "lmodel.intercept_\n",
    "\n",
    "lmodel.coef_\n",
    "\n",
    "plt.scatter( range(iterations), total_costs)\n",
    "\n",
    "len(range(i))"
   ]
  },
  {
   "cell_type": "code",
   "execution_count": 497,
   "id": "789eac29",
   "metadata": {},
   "outputs": [
    {
     "name": "stdout",
     "output_type": "stream",
     "text": [
      "initial Estimates of x and w:  0.15578499356770403 [0.30857338 0.20798184 0.23167074 0.82568505 0.00642852 0.63702449\n",
      " 0.37451051]\n",
      "Iteration:  0 Cost:  175.6048477790021\n",
      "Iteration:  10 Cost:  167.10818684903364\n",
      "Iteration:  20 Cost:  159.6145434088892\n",
      "Iteration:  30 Cost:  153.0424977700045\n",
      "Iteration:  40 Cost:  147.32133180801225\n",
      "Iteration:  50 Cost:  142.3847637955868\n",
      "Iteration:  60 Cost:  138.1664158733769\n",
      "Iteration:  70 Cost:  134.5970495715007\n",
      "Iteration:  80 Cost:  131.60352927615745\n",
      "Iteration:  90 Cost:  129.10973449484686\n",
      "Iteration:  100 Cost:  127.03948199628816\n",
      "Iteration:  110 Cost:  125.32059898613406\n",
      "Iteration:  120 Cost:  123.88857091358842\n",
      "Iteration:  130 Cost:  122.68857789782906\n",
      "Iteration:  140 Cost:  121.67576410792249\n",
      "Iteration:  150 Cost:  120.8143012594099\n",
      "Iteration:  160 Cost:  120.07592664706017\n",
      "Iteration:  170 Cost:  119.43842964860737\n",
      "Iteration:  180 Cost:  118.88431864808904\n",
      "Iteration:  190 Cost:  118.39973842815841\n",
      "Iteration:  200 Cost:  117.9736277953959\n",
      "Iteration:  210 Cost:  117.5970780495932\n",
      "Iteration:  220 Cost:  117.26284871053106\n",
      "Iteration:  230 Cost:  116.96500238491952\n",
      "Iteration:  240 Cost:  116.69862850588274\n",
      "Iteration:  250 Cost:  116.45963300691093\n",
      "Iteration:  260 Cost:  116.24457694151448\n",
      "Iteration:  270 Cost:  116.05055159189425\n",
      "Iteration:  280 Cost:  115.87508095580556\n",
      "Iteration:  290 Cost:  115.71604493415204\n",
      "Iteration:  300 Cost:  115.57161830139712\n",
      "Iteration:  310 Cost:  115.44022181293245\n",
      "Iteration:  320 Cost:  115.32048272608729\n",
      "Iteration:  330 Cost:  115.21120268410422\n",
      "Iteration:  340 Cost:  115.11133140608469\n",
      "Iteration:  350 Cost:  115.01994499093094\n",
      "Iteration:  360 Cost:  114.93622791531027\n",
      "Iteration:  370 Cost:  114.85945800997345\n",
      "Iteration:  380 Cost:  114.78899385343841\n",
      "Iteration:  390 Cost:  114.72426414008328\n",
      "Iteration:  400 Cost:  114.66475867044825\n",
      "Iteration:  410 Cost:  114.61002068184642\n",
      "Iteration:  420 Cost:  114.55964029223155\n",
      "Iteration:  430 Cost:  114.51324887335015\n",
      "Iteration:  440 Cost:  114.47051420326918\n",
      "Iteration:  450 Cost:  114.43113627546823\n",
      "Iteration:  460 Cost:  114.3948436633748\n",
      "Iteration:  470 Cost:  114.36139035667456\n",
      "Iteration:  480 Cost:  114.33055299985577\n",
      "Iteration:  490 Cost:  114.30212847493337\n",
      "Iteration:  500 Cost:  114.27593177968839\n",
      "Iteration:  510 Cost:  114.25179416046869\n",
      "Iteration:  520 Cost:  114.22956146495471\n",
      "Iteration:  530 Cost:  114.20909268556024\n",
      "Iteration:  540 Cost:  114.19025866851878\n",
      "Iteration:  550 Cost:  114.1729409673601\n",
      "Iteration:  560 Cost:  114.1570308225461\n",
      "Iteration:  570 Cost:  114.14242825160937\n",
      "Iteration:  580 Cost:  114.12904123631105\n",
      "Iteration:  590 Cost:  114.11678499517409\n",
      "Iteration:  600 Cost:  114.10558133130814\n",
      "Iteration:  610 Cost:  114.09535804677354\n",
      "Iteration:  620 Cost:  114.08604841586595\n",
      "Iteration:  630 Cost:  114.07759071067753\n",
      "Iteration:  640 Cost:  114.06992777312381\n",
      "Iteration:  650 Cost:  114.06300662834563\n",
      "Iteration:  660 Cost:  114.05677813501711\n",
      "Iteration:  670 Cost:  114.05119666862451\n",
      "Iteration:  680 Cost:  114.04621983425007\n",
      "Iteration:  690 Cost:  114.04180820579732\n",
      "Iteration:  700 Cost:  114.03792508894799\n",
      "Iteration:  710 Cost:  114.0345363054476\n",
      "Iteration:  720 Cost:  114.03160999658698\n",
      "Iteration:  730 Cost:  114.02911644398233\n",
      "Iteration:  740 Cost:  114.02702790596325\n",
      "Iteration:  750 Cost:  114.02531846806126\n",
      "Iteration:  760 Cost:  114.0239639062515\n",
      "Iteration:  770 Cost:  114.02294156174182\n",
      "Iteration:  780 Cost:  114.02223022622938\n",
      "Iteration:  790 Cost:  114.02181003665586\n",
      "Iteration:  800 Cost:  114.02166237859034\n",
      "Iteration:  810 Cost:  114.02176979745738\n",
      "Iteration:  820 Cost:  114.02211591690522\n",
      "Iteration:  830 Cost:  114.02268536367781\n",
      "Iteration:  840 Cost:  114.02346369841803\n",
      "Iteration:  850 Cost:  114.02443735188302\n",
      "Iteration:  860 Cost:  114.02559356610303\n",
      "Iteration:  870 Cost:  114.02692034005928\n",
      "Iteration:  880 Cost:  114.02840637949656\n",
      "Iteration:  890 Cost:  114.03004105052092\n",
      "Iteration:  900 Cost:  114.03181433666626\n",
      "Iteration:  910 Cost:  114.03371679914174\n",
      "Iteration:  920 Cost:  114.03573953999806\n",
      "Iteration:  930 Cost:  114.03787416797414\n",
      "Iteration:  940 Cost:  114.04011276680761\n",
      "Iteration:  950 Cost:  114.04244786581022\n",
      "Iteration:  960 Cost:  114.04487241252839\n",
      "Iteration:  970 Cost:  114.04737974732338\n",
      "Iteration:  980 Cost:  114.04996357972036\n",
      "Iteration:  990 Cost:  114.0526179663891\n",
      "Final Estimates of  x and w are:\n",
      "  0.15578499356770403 [ 0.04185199  1.36500705 -0.65410927  0.49961857 -0.36983562 -0.35408022\n",
      " -0.17496919]\n"
     ]
    }
   ],
   "source": [
    "iterations = 1000\n",
    "lr = 0.05\n",
    "\n",
    "total_costs = []\n",
    "x,w = betas(X_train.shape[1])\n",
    "print(\"initial Estimates of x and w: \" , x ,w)\n",
    "\n",
    "for i in range (iterations ):\n",
    "    y_not = sig(x, w , X_train)\n",
    "    get_cost = cost (Y, y_not)\n",
    "    pb = b\n",
    "    pw = w\n",
    "    b, w = betaUpdate (pb, pw, Y, y_not, X_train, lr)\n",
    "    total_costs.append(get_cost)\n",
    "    if i % 10 == 0:\n",
    "        print('Iteration: ', i, 'Cost: ', get_cost)\n",
    "        i += 1\n",
    "    \n",
    "print(\"Final Estimates of  x and w are:\\n \", x,w)"
   ]
  },
  {
   "cell_type": "code",
   "execution_count": 498,
   "id": "34f80aa2",
   "metadata": {},
   "outputs": [
    {
     "data": {
      "text/plain": [
       "<matplotlib.collections.PathCollection at 0x2c7a7dded60>"
      ]
     },
     "execution_count": 498,
     "metadata": {},
     "output_type": "execute_result"
    },
    {
     "data": {
      "image/png": "[encoded data removed]",
      "text/plain": [
       "<Figure size 640x480 with 1 Axes>"
      ]
     },
     "metadata": {},
     "output_type": "display_data"
    }
   ],
   "source": [
    "lreg = LogisticRegression()\n",
    "lmodel = lreg.fit(X_train, Y)\n",
    "lmodel.intercept_\n",
    "\n",
    "lmodel.coef_\n",
    "\n",
    "plt.scatter( range(iterations), total_costs)"
   ]
  },
  {
   "cell_type": "code",
   "execution_count": 500,
   "id": "8adf62b7",
   "metadata": {},
   "outputs": [
    {
     "name": "stdout",
     "output_type": "stream",
     "text": [
      "initial Estimates of x and w:  0.3822608631748441 [3.18148800e-01 1.28817089e-01 5.80640011e-01 4.34306828e-01\n",
      " 1.53195114e-01 2.67784427e-01 4.69775206e-04]\n",
      "Iteration:  0 Cost:  204.59061884442707\n",
      "Iteration:  10 Cost:  201.90956217799405\n",
      "Iteration:  20 Cost:  199.34853912150484\n",
      "Iteration:  30 Cost:  196.9015080481741\n",
      "Iteration:  40 Cost:  194.56271305198973\n",
      "Iteration:  50 Cost:  192.32668107710657\n",
      "Iteration:  60 Cost:  190.18821654773618\n",
      "Iteration:  70 Cost:  188.14239403906973\n",
      "Iteration:  80 Cost:  186.1845494586403\n",
      "Iteration:  90 Cost:  184.31027014046285\n",
      "Iteration:  100 Cost:  182.51538419238906\n",
      "Iteration:  110 Cost:  180.7959493810277\n",
      "Iteration:  120 Cost:  179.1482417885747\n",
      "Iteration:  130 Cost:  177.5687444319381\n",
      "Iteration:  140 Cost:  176.05413599636634\n",
      "Iteration:  150 Cost:  174.60127980301147\n",
      "Iteration:  160 Cost:  173.2072131019882\n",
      "Iteration:  170 Cost:  171.8691367590174\n",
      "Iteration:  180 Cost:  170.5844053841433\n",
      "Iteration:  190 Cost:  169.3505179347891\n",
      "Iteration:  200 Cost:  168.1651088121035\n",
      "Iteration:  210 Cost:  167.02593945872584\n",
      "Iteration:  220 Cost:  165.93089045739165\n",
      "Iteration:  230 Cost:  164.87795412288358\n",
      "Iteration:  240 Cost:  163.86522757442887\n",
      "Iteration:  250 Cost:  162.89090627150577\n",
      "Iteration:  260 Cost:  161.95327799295825\n",
      "Iteration:  270 Cost:  161.05071723714127\n",
      "Iteration:  280 Cost:  160.1816800194013\n",
      "Iteration:  290 Cost:  159.34469904240018\n",
      "Iteration:  300 Cost:  158.53837921451975\n",
      "Iteration:  310 Cost:  157.76139349174122\n",
      "Iteration:  320 Cost:  157.01247901890713\n",
      "Iteration:  330 Cost:  156.29043354706246\n",
      "Iteration:  340 Cost:  155.59411210458654\n",
      "Iteration:  350 Cost:  154.9224239010043\n",
      "Iteration:  360 Cost:  154.27432944365935\n",
      "Iteration:  370 Cost:  153.64883784879814\n",
      "Iteration:  380 Cost:  153.0450043300196\n",
      "Iteration:  390 Cost:  152.46192784844794\n",
      "Iteration:  400 Cost:  151.89874891037184\n",
      "Iteration:  410 Cost:  151.35464749942702\n",
      "Iteration:  420 Cost:  150.8288411316753\n",
      "Iteration:  430 Cost:  150.32058302312677\n",
      "Iteration:  440 Cost:  149.82916036036457\n",
      "Iteration:  450 Cost:  149.3538926659509\n",
      "Iteration:  460 Cost:  148.8941302512198\n",
      "Iteration:  470 Cost:  148.4492527498959\n",
      "Iteration:  480 Cost:  148.01866772672273\n",
      "Iteration:  490 Cost:  147.60180935593968\n",
      "Iteration:  500 Cost:  147.19813716502625\n",
      "Iteration:  510 Cost:  146.80713483963208\n",
      "Iteration:  520 Cost:  146.42830908604796\n",
      "Iteration:  530 Cost:  146.0611885479458\n",
      "Iteration:  540 Cost:  145.70532277443718\n",
      "Iteration:  550 Cost:  145.3602812367722\n",
      "Iteration:  560 Cost:  145.02565239123382\n",
      "Iteration:  570 Cost:  144.70104278597927\n",
      "Iteration:  580 Cost:  144.38607620974932\n",
      "Iteration:  590 Cost:  144.0803928805075\n",
      "Iteration:  600 Cost:  143.7836486721944\n",
      "Iteration:  610 Cost:  143.49551437788716\n",
      "Iteration:  620 Cost:  143.21567500774418\n",
      "Iteration:  630 Cost:  142.94382912019668\n",
      "Iteration:  640 Cost:  142.67968818491732\n",
      "Iteration:  650 Cost:  142.4229759761614\n",
      "Iteration:  660 Cost:  142.17342799513233\n",
      "Iteration:  670 Cost:  141.9307909200774\n",
      "Iteration:  680 Cost:  141.6948220828699\n",
      "Iteration:  690 Cost:  141.46528897087947\n",
      "Iteration:  700 Cost:  141.24196875297875\n",
      "Iteration:  710 Cost:  141.02464782857746\n",
      "Iteration:  720 Cost:  140.81312139861595\n",
      "Iteration:  730 Cost:  140.60719305749276\n",
      "Iteration:  740 Cost:  140.40667440493837\n",
      "Iteration:  750 Cost:  140.21138467688763\n",
      "Iteration:  760 Cost:  140.02115039444146\n",
      "Iteration:  770 Cost:  139.8358050300437\n",
      "Iteration:  780 Cost:  139.6551886900379\n",
      "Iteration:  790 Cost:  139.47914781280167\n",
      "Iteration:  800 Cost:  139.3075348816934\n",
      "Iteration:  810 Cost:  139.14020815207735\n",
      "Iteration:  820 Cost:  138.97703139172776\n",
      "Iteration:  830 Cost:  138.8178736339437\n",
      "Iteration:  840 Cost:  138.6626089427366\n",
      "Iteration:  850 Cost:  138.51111618948391\n",
      "Iteration:  860 Cost:  138.36327884046878\n",
      "Iteration:  870 Cost:  138.21898475475592\n",
      "Iteration:  880 Cost:  138.0781259918785\n",
      "Iteration:  890 Cost:  137.9405986288379\n",
      "Iteration:  900 Cost:  137.80630258594226\n",
      "Iteration:  910 Cost:  137.67514146103355\n",
      "Iteration:  920 Cost:  137.54702237167552\n",
      "Iteration:  930 Cost:  137.42185580489684\n",
      "Iteration:  940 Cost:  137.29955547410376\n",
      "Iteration:  950 Cost:  137.18003818279706\n",
      "Iteration:  960 Cost:  137.06322369474688\n",
      "Iteration:  970 Cost:  136.94903461029605\n",
      "Iteration:  980 Cost:  136.83739624848113\n",
      "Iteration:  990 Cost:  136.72823653467498\n",
      "Final Estimates of  x and w are:\n",
      "  0.3822608631748441 [ 0.06182362  1.08311674 -0.3163954   0.6843717  -0.1307366  -0.18743145\n",
      " -0.11129859]\n"
     ]
    }
   ],
   "source": [
    "iterations = 1000\n",
    "lr = 0.01\n",
    "\n",
    "total_costs = []\n",
    "x,w = betas(X_train.shape[1])\n",
    "print(\"initial Estimates of x and w: \" , x ,w)\n",
    "\n",
    "for i in range (iterations ):\n",
    "    y_not = sig(x, w , X_train)\n",
    "    get_cost = cost (Y, y_not)\n",
    "    pb = b\n",
    "    pw = w\n",
    "    b, w = betaUpdate (pb, pw, Y, y_not, X_train, lr)\n",
    "    total_costs.append(get_cost)\n",
    "    if i % 10 == 0:\n",
    "        print('Iteration: ', i, 'Cost: ', get_cost)\n",
    "        i += 1\n",
    "    \n",
    "print(\"Final Estimates of  x and w are:\\n \", x,w)"
   ]
  },
  {
   "cell_type": "code",
   "execution_count": 501,
   "id": "a20dbe20",
   "metadata": {},
   "outputs": [
    {
     "data": {
      "text/plain": [
       "<matplotlib.collections.PathCollection at 0x2c7a7e31e80>"
      ]
     },
     "execution_count": 501,
     "metadata": {},
     "output_type": "execute_result"
    },
    {
     "data": {
      "image/png": "[encoded data removed]",
      "text/plain": [
       "<Figure size 640x480 with 1 Axes>"
      ]
     },
     "metadata": {},
     "output_type": "display_data"
    }
   ],
   "source": [
    "lreg = LogisticRegression()\n",
    "lmodel = lreg.fit(X_train, Y)\n",
    "lmodel.intercept_\n",
    "\n",
    "lmodel.coef_\n",
    "\n",
    "plt.scatter( range(iterations), total_costs)"
   ]
  },
  {
   "cell_type": "code",
   "execution_count": 502,
   "id": "e9c770cf",
   "metadata": {},
   "outputs": [
    {
     "name": "stdout",
     "output_type": "stream",
     "text": [
      "initial Estimates of x and w:  0.24675646985374766 [0.61986617 0.92252749 0.04488352 0.12228188 0.12045597 0.14332296\n",
      " 0.4132625 ]\n",
      "Iteration:  0 Cost:  158.97283477326724\n",
      "Iteration:  10 Cost:  158.38138719253655\n",
      "Iteration:  20 Cost:  157.80037110132227\n",
      "Iteration:  30 Cost:  157.2296049907225\n",
      "Iteration:  40 Cost:  156.66891040164703\n",
      "Iteration:  50 Cost:  156.11811183878555\n",
      "Iteration:  60 Cost:  155.57703668883477\n",
      "Iteration:  70 Cost:  155.04551514298018\n",
      "Iteration:  80 Cost:  154.52338012359786\n",
      "Iteration:  90 Cost:  154.01046721511202\n",
      "Iteration:  100 Cost:  153.50661459891845\n",
      "Iteration:  110 Cost:  153.01166299226392\n",
      "Iteration:  120 Cost:  152.52545559095185\n",
      "Iteration:  130 Cost:  152.0478380157284\n",
      "Iteration:  140 Cost:  151.5786582621926\n",
      "Iteration:  150 Cost:  151.1177666540605\n",
      "Iteration:  160 Cost:  150.66501579960774\n",
      "Iteration:  170 Cost:  150.22026055110828\n",
      "Iteration:  180 Cost:  149.78335796708257\n",
      "Iteration:  190 Cost:  149.3541672771675\n",
      "Iteration:  200 Cost:  148.93254984941956\n",
      "Iteration:  210 Cost:  148.51836915986337\n",
      "Iteration:  220 Cost:  148.11149076410106\n",
      "Iteration:  230 Cost:  147.71178227080114\n",
      "Iteration:  240 Cost:  147.3191133168902\n",
      "Iteration:  250 Cost:  146.93335554427694\n",
      "Iteration:  260 Cost:  146.55438257794302\n",
      "Iteration:  270 Cost:  146.18207000524447\n",
      "Iteration:  280 Cost:  145.81629535627235\n",
      "Iteration:  290 Cost:  145.45693808513113\n",
      "Iteration:  300 Cost:  145.10387955200108\n",
      "Iteration:  310 Cost:  144.7570030058584\n",
      "Iteration:  320 Cost:  144.41619356773614\n",
      "Iteration:  330 Cost:  144.08133821441837\n",
      "Iteration:  340 Cost:  143.75232576246609\n",
      "Iteration:  350 Cost:  143.42904685248436\n",
      "Iteration:  360 Cost:  143.11139393354685\n",
      "Iteration:  370 Cost:  142.79926124770262\n",
      "Iteration:  380 Cost:  142.49254481449748\n",
      "Iteration:  390 Cost:  142.19114241545032\n",
      "Iteration:  400 Cost:  141.89495357843128\n",
      "Iteration:  410 Cost:  141.60387956189612\n",
      "Iteration:  420 Cost:  141.31782333893798\n",
      "Iteration:  430 Cost:  141.0366895811229\n",
      "Iteration:  440 Cost:  140.76038464208233\n",
      "Iteration:  450 Cost:  140.4888165408413\n",
      "Iteration:  460 Cost:  140.22189494486494\n",
      "Iteration:  470 Cost:  139.95953115281307\n",
      "Iteration:  480 Cost:  139.70163807699385\n",
      "Iteration:  490 Cost:  139.44813022551463\n",
      "Iteration:  500 Cost:  139.19892368412997\n",
      "Iteration:  510 Cost:  138.95393609779055\n",
      "Iteration:  520 Cost:  138.71308665189977\n",
      "Iteration:  530 Cost:  138.47629605328817\n",
      "Iteration:  540 Cost:  138.24348651091688\n",
      "Iteration:  550 Cost:  138.0145817163246\n",
      "Iteration:  560 Cost:  137.789506823834\n",
      "Iteration:  570 Cost:  137.56818843053455\n",
      "Iteration:  580 Cost:  137.35055455606133\n",
      "Iteration:  590 Cost:  137.13653462218875\n",
      "Iteration:  600 Cost:  136.9260594322604\n",
      "Iteration:  610 Cost:  136.7190611504761\n",
      "Iteration:  620 Cost:  136.51547328105804\n",
      "Iteration:  630 Cost:  136.31523064731783\n",
      "Iteration:  640 Cost:  136.11826937064686\n",
      "Iteration:  650 Cost:  135.92452684945144\n",
      "Iteration:  660 Cost:  135.73394173805556\n",
      "Iteration:  670 Cost:  135.54645392559203\n",
      "Iteration:  680 Cost:  135.3620045149035\n",
      "Iteration:  690 Cost:  135.18053580147418\n",
      "Iteration:  700 Cost:  135.00199125241195\n",
      "Iteration:  710 Cost:  134.82631548550094\n",
      "Iteration:  720 Cost:  134.6534542483426\n",
      "Iteration:  730 Cost:  134.4833543976038\n",
      "Iteration:  740 Cost:  134.31596387838846\n",
      "Iteration:  750 Cost:  134.1512317037498\n",
      "Iteration:  760 Cost:  133.98910793435797\n",
      "Iteration:  770 Cost:  133.82954365833749\n",
      "Iteration:  780 Cost:  133.6724909712891\n",
      "Iteration:  790 Cost:  133.5179029565074\n",
      "Iteration:  800 Cost:  133.3657336654072\n",
      "Iteration:  810 Cost:  133.21593809816875\n",
      "Iteration:  820 Cost:  133.06847218461235\n",
      "Iteration:  830 Cost:  132.92329276531117\n",
      "Iteration:  840 Cost:  132.780357572951\n",
      "Iteration:  850 Cost:  132.6396252139439\n",
      "Iteration:  860 Cost:  132.50105515030248\n",
      "Iteration:  870 Cost:  132.36460768178165\n",
      "Iteration:  880 Cost:  132.23024392829112\n",
      "Iteration:  890 Cost:  132.09792581258515\n",
      "Iteration:  900 Cost:  131.96761604323166\n",
      "Iteration:  910 Cost:  131.83927809786454\n",
      "Iteration:  920 Cost:  131.71287620672163\n",
      "Iteration:  930 Cost:  131.58837533646985\n",
      "Iteration:  940 Cost:  131.46574117431894\n",
      "Iteration:  950 Cost:  131.34494011242472\n",
      "Iteration:  960 Cost:  131.22593923258188\n",
      "Iteration:  970 Cost:  131.1087062912061\n",
      "Iteration:  980 Cost:  130.99320970460533\n",
      "Iteration:  990 Cost:  130.8794185345383\n",
      "Final Estimates of  x and w are:\n",
      "  0.24675646985374766 [ 0.26571402  1.11940542 -0.34899746  0.26301837 -0.01949083 -0.12885839\n",
      "  0.13888225]\n"
     ]
    }
   ],
   "source": [
    "iterations = 1000\n",
    "lr = 0.005\n",
    "\n",
    "total_costs = []\n",
    "x,w = betas(X_train.shape[1])\n",
    "print(\"initial Estimates of x and w: \" , x ,w)\n",
    "\n",
    "for i in range (iterations ):\n",
    "    y_not = sig(x, w , X_train)\n",
    "    get_cost = cost (Y, y_not)\n",
    "    pb = b\n",
    "    pw = w\n",
    "    b, w = betaUpdate (pb, pw, Y, y_not, X_train, lr)\n",
    "    total_costs.append(get_cost)\n",
    "    if i % 10 == 0:\n",
    "        print('Iteration: ', i, 'Cost: ', get_cost)\n",
    "        i += 1\n",
    "    \n",
    "print(\"Final Estimates of  x and w are:\\n \", x,w)"
   ]
  },
  {
   "cell_type": "code",
   "execution_count": 503,
   "id": "95b73b09",
   "metadata": {
    "scrolled": true
   },
   "outputs": [
    {
     "data": {
      "text/plain": [
       "<matplotlib.collections.PathCollection at 0x2c7a7e95520>"
      ]
     },
     "execution_count": 503,
     "metadata": {},
     "output_type": "execute_result"
    },
    {
     "data": {
      "image/png": "[encoded data removed]",
      "text/plain": [
       "<Figure size 640x480 with 1 Axes>"
      ]
     },
     "metadata": {},
     "output_type": "display_data"
    }
   ],
   "source": [
    "lreg = LogisticRegression()\n",
    "lmodel = lreg.fit(X_train, Y)\n",
    "lmodel.intercept_\n",
    "\n",
    "lmodel.coef_\n",
    "\n",
    "plt.scatter( range(iterations), total_costs)"
   ]
  },
  {
   "cell_type": "code",
   "execution_count": 504,
   "id": "079b1fdb",
   "metadata": {},
   "outputs": [
    {
     "name": "stdout",
     "output_type": "stream",
     "text": [
      "initial Estimates of x and w:  0.2878069746085663 [0.58624713 0.51009186 0.79442477 0.11969615 0.00477145 0.3238906\n",
      " 0.04783166]\n",
      "Iteration:  0 Cost:  206.54333415743832\n",
      "Iteration:  10 Cost:  206.1988432300691\n",
      "Iteration:  20 Cost:  205.85600100537155\n",
      "Iteration:  30 Cost:  205.51480005754743\n",
      "Iteration:  40 Cost:  205.1752329542765\n",
      "Iteration:  50 Cost:  204.83729225807545\n",
      "Iteration:  60 Cost:  204.50097052763064\n",
      "Iteration:  70 Cost:  204.1662603191038\n",
      "Iteration:  80 Cost:  203.83315418741063\n",
      "Iteration:  90 Cost:  203.50164468747172\n",
      "Iteration:  100 Cost:  203.17172437543516\n",
      "Iteration:  110 Cost:  202.8433858098706\n",
      "Iteration:  120 Cost:  202.51662155293508\n",
      "Iteration:  130 Cost:  202.19142417150942\n",
      "Iteration:  140 Cost:  201.8677862383054\n",
      "Iteration:  150 Cost:  201.54570033294414\n",
      "Iteration:  160 Cost:  201.22515904300508\n",
      "Iteration:  170 Cost:  200.90615496504535\n",
      "Iteration:  180 Cost:  200.58868070559043\n",
      "Iteration:  190 Cost:  200.27272888209507\n",
      "Iteration:  200 Cost:  199.95829212387585\n",
      "Iteration:  210 Cost:  199.64536307301398\n",
      "Iteration:  220 Cost:  199.33393438523066\n",
      "Iteration:  230 Cost:  199.02399873073284\n",
      "Iteration:  240 Cost:  198.71554879503168\n",
      "Iteration:  250 Cost:  198.40857727973264\n",
      "Iteration:  260 Cost:  198.10307690329836\n",
      "Iteration:  270 Cost:  197.79904040178457\n",
      "Iteration:  280 Cost:  197.49646052954904\n",
      "Iteration:  290 Cost:  197.1953300599337\n",
      "Iteration:  300 Cost:  196.895641785922\n",
      "Iteration:  310 Cost:  196.5973885207698\n",
      "Iteration:  320 Cost:  196.30056309861158\n",
      "Iteration:  330 Cost:  196.0051583750422\n",
      "Iteration:  340 Cost:  195.7111672276746\n",
      "Iteration:  350 Cost:  195.41858255667375\n",
      "Iteration:  360 Cost:  195.1273972852677\n",
      "Iteration:  370 Cost:  194.83760436023613\n",
      "Iteration:  380 Cost:  194.5491967523769\n",
      "Iteration:  390 Cost:  194.2621674569507\n",
      "Iteration:  400 Cost:  193.9765094941052\n",
      "Iteration:  410 Cost:  193.6922159092787\n",
      "Iteration:  420 Cost:  193.4092797735835\n",
      "Iteration:  430 Cost:  193.12769418417037\n",
      "Iteration:  440 Cost:  192.84745226457343\n",
      "Iteration:  450 Cost:  192.5685471650376\n",
      "Iteration:  460 Cost:  192.29097206282734\n",
      "Iteration:  470 Cost:  192.01472016251873\n",
      "Iteration:  480 Cost:  191.73978469627403\n",
      "Iteration:  490 Cost:  191.4661589241009\n",
      "Iteration:  500 Cost:  191.19383613409474\n",
      "Iteration:  510 Cost:  190.92280964266635\n",
      "Iteration:  520 Cost:  190.65307279475465\n",
      "Iteration:  530 Cost:  190.38461896402475\n",
      "Iteration:  540 Cost:  190.1174415530527\n",
      "Iteration:  550 Cost:  189.85153399349593\n",
      "Iteration:  560 Cost:  189.58688974625147\n",
      "Iteration:  570 Cost:  189.323502301601\n",
      "Iteration:  580 Cost:  189.06136517934428\n",
      "Iteration:  590 Cost:  188.80047192892064\n",
      "Iteration:  600 Cost:  188.5408161295189\n",
      "Iteration:  610 Cost:  188.28239139017685\n",
      "Iteration:  620 Cost:  188.02519134987\n",
      "Iteration:  630 Cost:  187.76920967759006\n",
      "Iteration:  640 Cost:  187.51444007241386\n",
      "Iteration:  650 Cost:  187.26087626356286\n",
      "Iteration:  660 Cost:  187.00851201045344\n",
      "Iteration:  670 Cost:  186.75734110273882\n",
      "Iteration:  680 Cost:  186.50735736034216\n",
      "Iteration:  690 Cost:  186.25855463348202\n",
      "Iteration:  700 Cost:  186.01092680268962\n",
      "Iteration:  710 Cost:  185.76446777881947\n",
      "Iteration:  720 Cost:  185.51917150305206\n",
      "Iteration:  730 Cost:  185.27503194688964\n",
      "Iteration:  740 Cost:  185.0320431121465\n",
      "Iteration:  750 Cost:  184.79019903093166\n",
      "Iteration:  760 Cost:  184.5494937656265\n",
      "Iteration:  770 Cost:  184.30992140885564\n",
      "Iteration:  780 Cost:  184.07147608345346\n",
      "Iteration:  790 Cost:  183.83415194242414\n",
      "Iteration:  800 Cost:  183.59794316889744\n",
      "Iteration:  810 Cost:  183.3628439760791\n",
      "Iteration:  820 Cost:  183.12884860719674\n",
      "Iteration:  830 Cost:  182.89595133544168\n",
      "Iteration:  840 Cost:  182.664146463906\n",
      "Iteration:  850 Cost:  182.43342832551525\n",
      "Iteration:  860 Cost:  182.20379128295858\n",
      "Iteration:  870 Cost:  181.97522972861375\n",
      "Iteration:  880 Cost:  181.74773808446932\n",
      "Iteration:  890 Cost:  181.52131080204342\n",
      "Iteration:  900 Cost:  181.295942362299\n",
      "Iteration:  910 Cost:  181.07162727555666\n",
      "Iteration:  920 Cost:  180.8483600814037\n",
      "Iteration:  930 Cost:  180.62613534860137\n",
      "Iteration:  940 Cost:  180.40494767498836\n",
      "Iteration:  950 Cost:  180.18479168738315\n",
      "Iteration:  960 Cost:  179.96566204148266\n",
      "Iteration:  970 Cost:  179.74755342175965\n",
      "Iteration:  980 Cost:  179.5304605413574\n",
      "Iteration:  990 Cost:  179.31437814198262\n",
      "Final Estimates of  x and w are:\n",
      "  0.2878069746085663 [0.48670651 0.66120001 0.53186857 0.24695061 0.02604155 0.23620396\n",
      " 0.02424394]\n"
     ]
    }
   ],
   "source": [
    "iterations = 1000\n",
    "lr = 0.001\n",
    "\n",
    "total_costs = []\n",
    "x,w = betas(X_train.shape[1])\n",
    "print(\"initial Estimates of x and w: \" , x ,w)\n",
    "\n",
    "for i in range (iterations ):\n",
    "    y_not = sig(x, w , X_train)\n",
    "    get_cost = cost (Y, y_not)\n",
    "    pb = b\n",
    "    pw = w\n",
    "    b, w = betaUpdate (pb, pw, Y, y_not, X_train, lr)\n",
    "    total_costs.append(get_cost)\n",
    "    if i % 10 == 0:\n",
    "        print('Iteration: ', i, 'Cost: ', get_cost)\n",
    "        i += 1\n",
    "    \n",
    "print(\"Final Estimates of  x and w are:\\n \", x,w)"
   ]
  },
  {
   "cell_type": "code",
   "execution_count": 505,
   "id": "e26cb3fa",
   "metadata": {},
   "outputs": [
    {
     "data": {
      "text/plain": [
       "<matplotlib.collections.PathCollection at 0x2c7a7ef2c70>"
      ]
     },
     "execution_count": 505,
     "metadata": {},
     "output_type": "execute_result"
    },
    {
     "data": {
      "image/png": "[encoded data removed]",
      "text/plain": [
       "<Figure size 640x480 with 1 Axes>"
      ]
     },
     "metadata": {},
     "output_type": "display_data"
    }
   ],
   "source": [
    "lreg = LogisticRegression()\n",
    "lmodel = lreg.fit(X_train, Y)\n",
    "lmodel.intercept_\n",
    "\n",
    "lmodel.coef_\n",
    "\n",
    "plt.scatter( range(iterations), total_costs)"
   ]
  }
 ],
 "metadata": {
  "kernelspec": {
   "display_name": "Python 3 (ipykernel)",
   "language": "python",
   "name": "python3"
  },
  "language_info": {
   "codemirror_mode": {
    "name": "ipython",
    "version": 3
   },
   "file_extension": ".py",
   "mimetype": "text/x-python",
   "name": "python",
   "nbconvert_exporter": "python",
   "pygments_lexer": "ipython3",
   "version": "3.9.13"
  }
 },
 "nbformat": 4,
 "nbformat_minor": 5
}
