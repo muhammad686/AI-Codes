{
 "cells": [
  {
   "cell_type": "code",
   "execution_count": 99,
   "id": "3c4ff49b",
   "metadata": {},
   "outputs": [],
   "source": [
    "import pandas as pd\n",
    "# ^^^ pyforest auto-imports - don't write above this line\n",
    "import numpy as np\n",
    "import matplotlib.pyplot as plt\n",
    "from sklearn.datasets import load_boston\n",
    "from sklearn.model_selection import train_test_split\n",
    "from sklearn.metrics import mean_squared_error"
   ]
  },
  {
   "cell_type": "code",
   "execution_count": 100,
   "id": "44eae643",
   "metadata": {},
   "outputs": [],
   "source": [
    "titanic_data = pd.read_csv('C:/Users/taham/Desktop/7th semester/AI by Sir Ayyaz/Assignments/Titanic_data_Set.csv')                                                             #load dataset"
   ]
  },
  {
   "cell_type": "code",
   "execution_count": 101,
   "id": "e714995e",
   "metadata": {},
   "outputs": [
    {
     "data": {
      "text/plain": [
       "(891, 7)"
      ]
     },
     "execution_count": 101,
     "metadata": {},
     "output_type": "execute_result"
    }
   ],
   "source": [
    "X = (titanic_data[['PassengerId','Sex','Pclass','Fare','Age','SibSp','Parch']])\n",
    "Y = (titanic_data[['Survived']])\n",
    "X.shape"
   ]
  },
  {
   "cell_type": "code",
   "execution_count": 89,
   "id": "5bd3f99e",
   "metadata": {},
   "outputs": [
    {
     "data": {
      "text/plain": [
       "(891, 1)"
      ]
     },
     "execution_count": 89,
     "metadata": {},
     "output_type": "execute_result"
    }
   ],
   "source": [
    "Y.shape"
   ]
  },
  {
   "cell_type": "code",
   "execution_count": 102,
   "id": "775bcc42",
   "metadata": {},
   "outputs": [
    {
     "data": {
      "text/html": [
       "<div>\n",
       "<style scoped>\n",
       "    .dataframe tbody tr th:only-of-type {\n",
       "        vertical-align: middle;\n",
       "    }\n",
       "\n",
       "    .dataframe tbody tr th {\n",
       "        vertical-align: top;\n",
       "    }\n",
       "\n",
       "    .dataframe thead th {\n",
       "        text-align: right;\n",
       "    }\n",
       "</style>\n",
       "<table border=\"1\" class=\"dataframe\">\n",
       "  <thead>\n",
       "    <tr style=\"text-align: right;\">\n",
       "      <th></th>\n",
       "      <th>PassengerId</th>\n",
       "      <th>Sex</th>\n",
       "      <th>Pclass</th>\n",
       "      <th>Fare</th>\n",
       "      <th>Age</th>\n",
       "      <th>SibSp</th>\n",
       "      <th>Parch</th>\n",
       "    </tr>\n",
       "  </thead>\n",
       "  <tbody>\n",
       "    <tr>\n",
       "      <th>0</th>\n",
       "      <td>1</td>\n",
       "      <td>1</td>\n",
       "      <td>3</td>\n",
       "      <td>7.2500</td>\n",
       "      <td>22.0</td>\n",
       "      <td>1</td>\n",
       "      <td>0</td>\n",
       "    </tr>\n",
       "    <tr>\n",
       "      <th>1</th>\n",
       "      <td>2</td>\n",
       "      <td>2</td>\n",
       "      <td>1</td>\n",
       "      <td>71.2833</td>\n",
       "      <td>38.0</td>\n",
       "      <td>1</td>\n",
       "      <td>0</td>\n",
       "    </tr>\n",
       "    <tr>\n",
       "      <th>2</th>\n",
       "      <td>3</td>\n",
       "      <td>2</td>\n",
       "      <td>3</td>\n",
       "      <td>7.9250</td>\n",
       "      <td>26.0</td>\n",
       "      <td>0</td>\n",
       "      <td>0</td>\n",
       "    </tr>\n",
       "    <tr>\n",
       "      <th>3</th>\n",
       "      <td>4</td>\n",
       "      <td>2</td>\n",
       "      <td>1</td>\n",
       "      <td>53.1000</td>\n",
       "      <td>35.0</td>\n",
       "      <td>1</td>\n",
       "      <td>0</td>\n",
       "    </tr>\n",
       "    <tr>\n",
       "      <th>4</th>\n",
       "      <td>5</td>\n",
       "      <td>1</td>\n",
       "      <td>3</td>\n",
       "      <td>8.0500</td>\n",
       "      <td>35.0</td>\n",
       "      <td>0</td>\n",
       "      <td>0</td>\n",
       "    </tr>\n",
       "    <tr>\n",
       "      <th>5</th>\n",
       "      <td>6</td>\n",
       "      <td>1</td>\n",
       "      <td>3</td>\n",
       "      <td>8.4583</td>\n",
       "      <td>28.0</td>\n",
       "      <td>0</td>\n",
       "      <td>0</td>\n",
       "    </tr>\n",
       "    <tr>\n",
       "      <th>6</th>\n",
       "      <td>7</td>\n",
       "      <td>1</td>\n",
       "      <td>1</td>\n",
       "      <td>51.8625</td>\n",
       "      <td>54.0</td>\n",
       "      <td>0</td>\n",
       "      <td>0</td>\n",
       "    </tr>\n",
       "    <tr>\n",
       "      <th>7</th>\n",
       "      <td>8</td>\n",
       "      <td>1</td>\n",
       "      <td>3</td>\n",
       "      <td>21.0750</td>\n",
       "      <td>2.0</td>\n",
       "      <td>3</td>\n",
       "      <td>1</td>\n",
       "    </tr>\n",
       "    <tr>\n",
       "      <th>8</th>\n",
       "      <td>9</td>\n",
       "      <td>2</td>\n",
       "      <td>3</td>\n",
       "      <td>11.1333</td>\n",
       "      <td>27.0</td>\n",
       "      <td>0</td>\n",
       "      <td>2</td>\n",
       "    </tr>\n",
       "    <tr>\n",
       "      <th>9</th>\n",
       "      <td>10</td>\n",
       "      <td>2</td>\n",
       "      <td>2</td>\n",
       "      <td>30.0708</td>\n",
       "      <td>14.0</td>\n",
       "      <td>1</td>\n",
       "      <td>0</td>\n",
       "    </tr>\n",
       "  </tbody>\n",
       "</table>\n",
       "</div>"
      ],
      "text/plain": [
       "   PassengerId  Sex  Pclass     Fare   Age  SibSp  Parch\n",
       "0            1    1       3   7.2500  22.0      1      0\n",
       "1            2    2       1  71.2833  38.0      1      0\n",
       "2            3    2       3   7.9250  26.0      0      0\n",
       "3            4    2       1  53.1000  35.0      1      0\n",
       "4            5    1       3   8.0500  35.0      0      0\n",
       "5            6    1       3   8.4583  28.0      0      0\n",
       "6            7    1       1  51.8625  54.0      0      0\n",
       "7            8    1       3  21.0750   2.0      3      1\n",
       "8            9    2       3  11.1333  27.0      0      2\n",
       "9           10    2       2  30.0708  14.0      1      0"
      ]
     },
     "execution_count": 102,
     "metadata": {},
     "output_type": "execute_result"
    }
   ],
   "source": [
    "cols_to_Normal = ['PassengerId','Sex','Pclass','Fare','Age','SibSp','Parch']\n",
    "\n",
    "X= X[cols_to_Normal]\n",
    "X.head(10)"
   ]
  },
  {
   "cell_type": "code",
   "execution_count": 93,
   "id": "e3c06022",
   "metadata": {},
   "outputs": [],
   "source": [
    "X_train,X_test,Y_train,Y_test = train_test_split(X, Y, test_size = 0.2)  "
   ]
  },
  {
   "cell_type": "code",
   "execution_count": 103,
   "id": "0a017fdb",
   "metadata": {},
   "outputs": [],
   "source": [
    "ls = [13, 5, 5, 1]                                                       #set layer sizes, do not change the size of the first and last layer \n",
    "iterations = 1000                                                                  #set number of iterations over the training set(also known as epochs in batch gradient descent context)\n",
    "lr = 0.03  "
   ]
  },
  {
   "cell_type": "code",
   "execution_count": 104,
   "id": "b9240253",
   "metadata": {},
   "outputs": [],
   "source": [
    "def relu(z):\n",
    "    a = np.maximum(0,z)\n",
    "    return a"
   ]
  },
  {
   "cell_type": "code",
   "execution_count": 64,
   "id": "260051aa",
   "metadata": {},
   "outputs": [],
   "source": [
    "def par_init(ls):\n",
    "    par = {}\n",
    "    for i in range(1, len(ls)):\n",
    "        par['W' + str(i)] = np.random.randn(ls[i], ls[i-1])*0.01\n",
    "        par['B' + str(i)] = np.random.randn(ls[i],1)*0.01\n",
    "    return par"
   ]
  },
  {
   "cell_type": "code",
   "execution_count": 65,
   "id": "0eb17370",
   "metadata": {},
   "outputs": [],
   "source": [
    "def frwdPropagation(X_train, par):\n",
    "    layers = len(par)//2\n",
    "    values = {}\n",
    "    for i in range(1, layers+1):\n",
    "        if i==1:\n",
    "            values['Z' + str(i)] = np.dot(par['W' + str(i)], X_train) + par['B' + str(i)]\n",
    "            values['A' + str(i)] = relu(values['Z' + str(i)])\n",
    "        else:\n",
    "            values['Z' + str(i)] = np.dot(par['W' + str(i)], values['A' + str(i-1)]) + par['B' + str(i)]\n",
    "            if i==layers:\n",
    "                values['A' + str(i)] = values['Z' + str(i)]\n",
    "            else:\n",
    "                values['A' + str(i)] = relu(values['Z' + str(i)])\n",
    "    return values\n"
   ]
  },
  {
   "cell_type": "code",
   "execution_count": 105,
   "id": "dcdacf3f",
   "metadata": {},
   "outputs": [],
   "source": [
    "def cost(values, Y_train):\n",
    "    layers = len(values)//2\n",
    "    Y_pred = values['A' + str(layers)]\n",
    "    cost = 1/(2*len(Y_train)) * np.sum(np.square(Y_pred - Y_train))\n",
    "    return cost"
   ]
  },
  {
   "cell_type": "code",
   "execution_count": 106,
   "id": "ecdc8476",
   "metadata": {},
   "outputs": [],
   "source": [
    "def bcwrdPropagation(par, values, X_train, Y_train):\n",
    "    layers = len(par)//2\n",
    "    m = len(Y_train)\n",
    "    grads = {}\n",
    "    for i in range(layers,0,-1):\n",
    "        if i==layers:\n",
    "            dA = 1/m * (values['A' + str(i)] - Y_train)\n",
    "            dZ = dA\n",
    "        else:\n",
    "            dA = np.dot(par['W' + str(i+1)].T, dZ)\n",
    "            dZ = np.multiply(dA, np.where(values['A' + str(i)]>=0, 1, 0))\n",
    "        if i==1:\n",
    "            grads['W' + str(i)] = 1/m * np.dot(dZ, X_train.T)\n",
    "            grads['B' + str(i)] = 1/m * np.sum(dZ, axis=1, keepdims=True)\n",
    "        else:\n",
    "            grads['W' + str(i)] = 1/m * np.dot(dZ,values['A' + str(i-1)].T)\n",
    "            grads['B' + str(i)] = 1/m * np.sum(dZ, axis=1, keepdims=True)\n",
    "    return grads"
   ]
  },
  {
   "cell_type": "code",
   "execution_count": 67,
   "id": "04cdb38d",
   "metadata": {},
   "outputs": [],
   "source": [
    "def update_par(par, grads, lr):\n",
    "    layers = len(par)//2\n",
    "    par_updated = {}\n",
    "    for i in range(1,layers+1):\n",
    "        par_updated['W' + str(i)] = par['W' + str(i)] - lr * grads['W' + str(i)]\n",
    "        par_updated['B' + str(i)] = par['B' + str(i)] - lr * grads['B' + str(i)]\n",
    "    return par_updated"
   ]
  },
  {
   "cell_type": "code",
   "execution_count": 68,
   "id": "e94e395b",
   "metadata": {},
   "outputs": [],
   "source": [
    "def model(X_train, Y_train, ls, iterations, lr):\n",
    "    par = par_init(ls)\n",
    "    for i in range(iterations):\n",
    "        values = frwdPropagation(X_train.T, par)\n",
    "        cost = cost(values, Y_train.T)\n",
    "        grads = bcwrdPropagation(par, values,X_train.T, Y_train.T)\n",
    "        par = update_par(par, grads, lr)\n",
    "        print('Cost at iteration ' + str(i+1) + ' = ' + str(cost) + '\\n')\n",
    "    return par"
   ]
  },
  {
   "cell_type": "code",
   "execution_count": 107,
   "id": "a3e37012",
   "metadata": {},
   "outputs": [],
   "source": [
    "def compute_accuracy(X_train, X_test, Y_train, Y_test, par):\n",
    "    values_train = frwdPropagation(X_train.T, par)\n",
    "    values_test = frwdPropagation(X_test.T, par)\n",
    "    train_acc = np.sqrt(mean_squared_error(Y_train, values_train['A' + str(len(ls)-1)].T))\n",
    "    test_acc = np.sqrt(mean_squared_error(Y_test, values_test['A' + str(len(ls)-1)].T))\n",
    "    return train_acc, test_acc"
   ]
  },
  {
   "cell_type": "code",
   "execution_count": 108,
   "id": "98abec75",
   "metadata": {},
   "outputs": [],
   "source": [
    "def predict(X, par):\n",
    "    values = frwdPropagation(X.T, par)\n",
    "    predictions = values['A' + str(len(values)//2)].T\n",
    "    return predictions"
   ]
  },
  {
   "cell_type": "code",
   "execution_count": 109,
   "id": "869c6760",
   "metadata": {},
   "outputs": [
    {
     "ename": "ValueError",
     "evalue": "shapes (5,13) and (7,712) not aligned: 13 (dim 1) != 7 (dim 0)",
     "output_type": "error",
     "traceback": [
      "\u001b[1;31m---------------------------------------------------------------------------\u001b[0m",
      "\u001b[1;31mValueError\u001b[0m                                Traceback (most recent call last)",
      "Input \u001b[1;32mIn [109]\u001b[0m, in \u001b[0;36m<cell line: 1>\u001b[1;34m()\u001b[0m\n\u001b[1;32m----> 1\u001b[0m p \u001b[38;5;241m=\u001b[39m \u001b[43mmodel\u001b[49m\u001b[43m(\u001b[49m\u001b[43mX_train\u001b[49m\u001b[43m,\u001b[49m\u001b[43m \u001b[49m\u001b[43mY_train\u001b[49m\u001b[43m,\u001b[49m\u001b[43m \u001b[49m\u001b[43mls\u001b[49m\u001b[43m,\u001b[49m\u001b[43m \u001b[49m\u001b[43miterations\u001b[49m\u001b[43m,\u001b[49m\u001b[43m \u001b[49m\u001b[43mlr\u001b[49m\u001b[43m)\u001b[49m           \n\u001b[0;32m      2\u001b[0m train_acc, test_acc \u001b[38;5;241m=\u001b[39m compute_accuracy(X_train, X_test, Y_train, Y_test, par)  \n\u001b[0;32m      3\u001b[0m \u001b[38;5;28mprint\u001b[39m(\u001b[38;5;124m'\u001b[39m\u001b[38;5;124mRoot Mean Squared Error on Training Data = \u001b[39m\u001b[38;5;124m'\u001b[39m \u001b[38;5;241m+\u001b[39m \u001b[38;5;28mstr\u001b[39m(train_acc))\n",
      "Input \u001b[1;32mIn [68]\u001b[0m, in \u001b[0;36mmodel\u001b[1;34m(X_train, Y_train, layer_sizes, num_iters, learning_rate)\u001b[0m\n\u001b[0;32m      2\u001b[0m params \u001b[38;5;241m=\u001b[39m initialize_params(layer_sizes)\n\u001b[0;32m      3\u001b[0m \u001b[38;5;28;01mfor\u001b[39;00m i \u001b[38;5;129;01min\u001b[39;00m \u001b[38;5;28mrange\u001b[39m(num_iters):\n\u001b[1;32m----> 4\u001b[0m     values \u001b[38;5;241m=\u001b[39m \u001b[43mforward_propagation\u001b[49m\u001b[43m(\u001b[49m\u001b[43mX_train\u001b[49m\u001b[38;5;241;43m.\u001b[39;49m\u001b[43mT\u001b[49m\u001b[43m,\u001b[49m\u001b[43m \u001b[49m\u001b[43mparams\u001b[49m\u001b[43m)\u001b[49m\n\u001b[0;32m      5\u001b[0m     cost \u001b[38;5;241m=\u001b[39m compute_cost(values, Y_train\u001b[38;5;241m.\u001b[39mT)\n\u001b[0;32m      6\u001b[0m     grads \u001b[38;5;241m=\u001b[39m backward_propagation(params, values,X_train\u001b[38;5;241m.\u001b[39mT, Y_train\u001b[38;5;241m.\u001b[39mT)\n",
      "Input \u001b[1;32mIn [65]\u001b[0m, in \u001b[0;36mforward_propagation\u001b[1;34m(X_train, params)\u001b[0m\n\u001b[0;32m      4\u001b[0m \u001b[38;5;28;01mfor\u001b[39;00m i \u001b[38;5;129;01min\u001b[39;00m \u001b[38;5;28mrange\u001b[39m(\u001b[38;5;241m1\u001b[39m, layers\u001b[38;5;241m+\u001b[39m\u001b[38;5;241m1\u001b[39m):\n\u001b[0;32m      5\u001b[0m     \u001b[38;5;28;01mif\u001b[39;00m i\u001b[38;5;241m==\u001b[39m\u001b[38;5;241m1\u001b[39m:\n\u001b[1;32m----> 6\u001b[0m         values[\u001b[38;5;124m'\u001b[39m\u001b[38;5;124mZ\u001b[39m\u001b[38;5;124m'\u001b[39m \u001b[38;5;241m+\u001b[39m \u001b[38;5;28mstr\u001b[39m(i)] \u001b[38;5;241m=\u001b[39m \u001b[43mnp\u001b[49m\u001b[38;5;241;43m.\u001b[39;49m\u001b[43mdot\u001b[49m\u001b[43m(\u001b[49m\u001b[43mparams\u001b[49m\u001b[43m[\u001b[49m\u001b[38;5;124;43m'\u001b[39;49m\u001b[38;5;124;43mW\u001b[39;49m\u001b[38;5;124;43m'\u001b[39;49m\u001b[43m \u001b[49m\u001b[38;5;241;43m+\u001b[39;49m\u001b[43m \u001b[49m\u001b[38;5;28;43mstr\u001b[39;49m\u001b[43m(\u001b[49m\u001b[43mi\u001b[49m\u001b[43m)\u001b[49m\u001b[43m]\u001b[49m\u001b[43m,\u001b[49m\u001b[43m \u001b[49m\u001b[43mX_train\u001b[49m\u001b[43m)\u001b[49m \u001b[38;5;241m+\u001b[39m params[\u001b[38;5;124m'\u001b[39m\u001b[38;5;124mB\u001b[39m\u001b[38;5;124m'\u001b[39m \u001b[38;5;241m+\u001b[39m \u001b[38;5;28mstr\u001b[39m(i)]\n\u001b[0;32m      7\u001b[0m         values[\u001b[38;5;124m'\u001b[39m\u001b[38;5;124mA\u001b[39m\u001b[38;5;124m'\u001b[39m \u001b[38;5;241m+\u001b[39m \u001b[38;5;28mstr\u001b[39m(i)] \u001b[38;5;241m=\u001b[39m relu(values[\u001b[38;5;124m'\u001b[39m\u001b[38;5;124mZ\u001b[39m\u001b[38;5;124m'\u001b[39m \u001b[38;5;241m+\u001b[39m \u001b[38;5;28mstr\u001b[39m(i)])\n\u001b[0;32m      8\u001b[0m     \u001b[38;5;28;01melse\u001b[39;00m:\n",
      "File \u001b[1;32m<__array_function__ internals>:5\u001b[0m, in \u001b[0;36mdot\u001b[1;34m(*args, **kwargs)\u001b[0m\n",
      "\u001b[1;31mValueError\u001b[0m: shapes (5,13) and (7,712) not aligned: 13 (dim 1) != 7 (dim 0)"
     ]
    }
   ],
   "source": [
    "p = model(X_train, Y_train, ls, iterations, lr)           \n",
    "train_acc, test_acc = compute_accuracy(X_train, X_test, Y_train, Y_test, par)  \n",
    "print('Root Mean Squared Error on Training Data = ' + str(train_acc))\n",
    "print('Root Mean Squared Error on Test Data = ' + str(test_acc))"
   ]
  }
 ],
 "metadata": {
  "kernelspec": {
   "display_name": "Python 3 (ipykernel)",
   "language": "python",
   "name": "python3"
  },
  "language_info": {
   "codemirror_mode": {
    "name": "ipython",
    "version": 3
   },
   "file_extension": ".py",
   "mimetype": "text/x-python",
   "name": "python",
   "nbconvert_exporter": "python",
   "pygments_lexer": "ipython3",
   "version": "3.9.12"
  }
 },
 "nbformat": 4,
 "nbformat_minor": 5
}
