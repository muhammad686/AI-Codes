{
 "cells": [
  {
   "cell_type": "code",
   "execution_count": 7,
   "id": "6ac7e444",
   "metadata": {},
   "outputs": [],
   "source": [
    "%matplotlib inline \n",
    "import numpy as np\n",
    "import pandas as pd\n",
    "from sklearn.model_selection import train_test_split\n",
    "from sklearn.impute import SimpleImputer\n",
    "from sklearn import metrics\n",
    "from sklearn.linear_model import LogisticRegression\n",
    "from sklearn.neighbors import KNeighborsClassifier\n",
    "from scipy.stats import zscore\n",
    "import seaborn as sns\n",
    "import matplotlib.pyplot as plt\n",
    "from numpy import log,dot,e,shape"
   ]
  },
  {
   "cell_type": "code",
   "execution_count": 8,
   "id": "2dbe803d",
   "metadata": {},
   "outputs": [],
   "source": [
    "titanic_data = pd.read_csv('C:/Users/taham/Desktop/7th semester/AI by Sir Ayyaz/Assignments/Titanic_data_Set.csv')"
   ]
  },
  {
   "cell_type": "code",
   "execution_count": 10,
   "id": "40bcfe78",
   "metadata": {
    "scrolled": true
   },
   "outputs": [
    {
     "data": {
      "text/html": [
       "<div>\n",
       "<style scoped>\n",
       "    .dataframe tbody tr th:only-of-type {\n",
       "        vertical-align: middle;\n",
       "    }\n",
       "\n",
       "    .dataframe tbody tr th {\n",
       "        vertical-align: top;\n",
       "    }\n",
       "\n",
       "    .dataframe thead th {\n",
       "        text-align: right;\n",
       "    }\n",
       "</style>\n",
       "<table border=\"1\" class=\"dataframe\">\n",
       "  <thead>\n",
       "    <tr style=\"text-align: right;\">\n",
       "      <th></th>\n",
       "      <th>PassengerId</th>\n",
       "      <th>Survived</th>\n",
       "      <th>Pclass</th>\n",
       "      <th>Sex</th>\n",
       "      <th>Fare</th>\n",
       "      <th>Age</th>\n",
       "      <th>SibSp</th>\n",
       "      <th>Parch</th>\n",
       "    </tr>\n",
       "  </thead>\n",
       "  <tbody>\n",
       "    <tr>\n",
       "      <th>0</th>\n",
       "      <td>1</td>\n",
       "      <td>0</td>\n",
       "      <td>3</td>\n",
       "      <td>1</td>\n",
       "      <td>7.2500</td>\n",
       "      <td>22.0</td>\n",
       "      <td>1</td>\n",
       "      <td>0</td>\n",
       "    </tr>\n",
       "    <tr>\n",
       "      <th>1</th>\n",
       "      <td>2</td>\n",
       "      <td>1</td>\n",
       "      <td>1</td>\n",
       "      <td>2</td>\n",
       "      <td>71.2833</td>\n",
       "      <td>38.0</td>\n",
       "      <td>1</td>\n",
       "      <td>0</td>\n",
       "    </tr>\n",
       "  </tbody>\n",
       "</table>\n",
       "</div>"
      ],
      "text/plain": [
       "   PassengerId  Survived  Pclass  Sex     Fare   Age  SibSp  Parch\n",
       "0            1         0       3    1   7.2500  22.0      1      0\n",
       "1            2         1       1    2  71.2833  38.0      1      0"
      ]
     },
     "execution_count": 10,
     "metadata": {},
     "output_type": "execute_result"
    }
   ],
   "source": [
    "titanic_data.head(2)"
   ]
  },
  {
   "cell_type": "code",
   "execution_count": 11,
   "id": "45897c4b",
   "metadata": {},
   "outputs": [
    {
     "data": {
      "text/plain": [
       "False"
      ]
     },
     "execution_count": 11,
     "metadata": {},
     "output_type": "execute_result"
    }
   ],
   "source": [
    "titanic_data.isnull().values.any()"
   ]
  },
  {
   "cell_type": "code",
   "execution_count": 16,
   "id": "810b79dd",
   "metadata": {},
   "outputs": [],
   "source": [
    "columns = list(titanic_data)[0:-1]\n",
    "# titanic_data[columns].hist(bins = 80,figsize=(12,50),layout=(14,4))"
   ]
  },
  {
   "cell_type": "code",
   "execution_count": 78,
   "id": "76d50815",
   "metadata": {},
   "outputs": [],
   "source": [
    "# titanic_data.corr()"
   ]
  },
  {
   "cell_type": "code",
   "execution_count": 79,
   "id": "19418019",
   "metadata": {},
   "outputs": [],
   "source": [
    "# plt.figure(figsize=(10,7))\n",
    "# sns.heatmap(titanic_data.corr(),square=True, annot=True,cmap ='viridis')\n",
    "# plt.show()"
   ]
  },
  {
   "cell_type": "code",
   "execution_count": 80,
   "id": "42ddde33",
   "metadata": {},
   "outputs": [],
   "source": [
    "# sns.pairplot(titanic_data,diag_kind='kde')"
   ]
  },
  {
   "cell_type": "code",
   "execution_count": 29,
   "id": "e9d4603c",
   "metadata": {},
   "outputs": [
    {
     "data": {
      "text/plain": [
       "0    549\n",
       "1    342\n",
       "Name: Survived, dtype: int64"
      ]
     },
     "execution_count": 29,
     "metadata": {},
     "output_type": "execute_result"
    }
   ],
   "source": [
    "titanic_data['Survived'].value_counts()"
   ]
  },
  {
   "cell_type": "code",
   "execution_count": 30,
   "id": "3143de11",
   "metadata": {},
   "outputs": [
    {
     "data": {
      "text/html": [
       "<div>\n",
       "<style scoped>\n",
       "    .dataframe tbody tr th:only-of-type {\n",
       "        vertical-align: middle;\n",
       "    }\n",
       "\n",
       "    .dataframe tbody tr th {\n",
       "        vertical-align: top;\n",
       "    }\n",
       "\n",
       "    .dataframe thead th {\n",
       "        text-align: right;\n",
       "    }\n",
       "</style>\n",
       "<table border=\"1\" class=\"dataframe\">\n",
       "  <thead>\n",
       "    <tr style=\"text-align: right;\">\n",
       "      <th></th>\n",
       "      <th>PassengerId</th>\n",
       "      <th>Survived</th>\n",
       "      <th>Pclass</th>\n",
       "      <th>Sex</th>\n",
       "      <th>Fare</th>\n",
       "      <th>Age</th>\n",
       "      <th>SibSp</th>\n",
       "      <th>Parch</th>\n",
       "    </tr>\n",
       "  </thead>\n",
       "  <tbody>\n",
       "    <tr>\n",
       "      <th>0</th>\n",
       "      <td>1</td>\n",
       "      <td>0</td>\n",
       "      <td>3</td>\n",
       "      <td>1</td>\n",
       "      <td>7.2500</td>\n",
       "      <td>22.0</td>\n",
       "      <td>1</td>\n",
       "      <td>0</td>\n",
       "    </tr>\n",
       "    <tr>\n",
       "      <th>1</th>\n",
       "      <td>2</td>\n",
       "      <td>1</td>\n",
       "      <td>1</td>\n",
       "      <td>2</td>\n",
       "      <td>71.2833</td>\n",
       "      <td>38.0</td>\n",
       "      <td>1</td>\n",
       "      <td>0</td>\n",
       "    </tr>\n",
       "    <tr>\n",
       "      <th>2</th>\n",
       "      <td>3</td>\n",
       "      <td>1</td>\n",
       "      <td>3</td>\n",
       "      <td>2</td>\n",
       "      <td>7.9250</td>\n",
       "      <td>26.0</td>\n",
       "      <td>0</td>\n",
       "      <td>0</td>\n",
       "    </tr>\n",
       "    <tr>\n",
       "      <th>3</th>\n",
       "      <td>4</td>\n",
       "      <td>1</td>\n",
       "      <td>1</td>\n",
       "      <td>2</td>\n",
       "      <td>53.1000</td>\n",
       "      <td>35.0</td>\n",
       "      <td>1</td>\n",
       "      <td>0</td>\n",
       "    </tr>\n",
       "    <tr>\n",
       "      <th>4</th>\n",
       "      <td>5</td>\n",
       "      <td>0</td>\n",
       "      <td>3</td>\n",
       "      <td>1</td>\n",
       "      <td>8.0500</td>\n",
       "      <td>35.0</td>\n",
       "      <td>0</td>\n",
       "      <td>0</td>\n",
       "    </tr>\n",
       "  </tbody>\n",
       "</table>\n",
       "</div>"
      ],
      "text/plain": [
       "   PassengerId  Survived  Pclass  Sex     Fare   Age  SibSp  Parch\n",
       "0            1         0       3    1   7.2500  22.0      1      0\n",
       "1            2         1       1    2  71.2833  38.0      1      0\n",
       "2            3         1       3    2   7.9250  26.0      0      0\n",
       "3            4         1       1    2  53.1000  35.0      1      0\n",
       "4            5         0       3    1   8.0500  35.0      0      0"
      ]
     },
     "execution_count": 30,
     "metadata": {},
     "output_type": "execute_result"
    }
   ],
   "source": [
    "titanic_data.head(5)"
   ]
  },
  {
   "cell_type": "code",
   "execution_count": 119,
   "id": "bac02c6b",
   "metadata": {},
   "outputs": [
    {
     "data": {
      "text/plain": [
       "(891,)"
      ]
     },
     "execution_count": 119,
     "metadata": {},
     "output_type": "execute_result"
    }
   ],
   "source": [
    "X = titanic_data.drop('Survived',axis=1)\n",
    "Y = titanic_data['Survived']\n",
    "Y.shape"
   ]
  },
  {
   "cell_type": "code",
   "execution_count": 120,
   "id": "353b7dec",
   "metadata": {},
   "outputs": [],
   "source": [
    "x_train,x_test, y_train , y_test = train_test_split(X,Y,test_size = 0.3, random_state =1)"
   ]
  },
  {
   "cell_type": "code",
   "execution_count": 118,
   "id": "60a0404b",
   "metadata": {},
   "outputs": [
    {
     "data": {
      "text/plain": [
       "(891, 7)"
      ]
     },
     "execution_count": 118,
     "metadata": {},
     "output_type": "execute_result"
    }
   ],
   "source": [
    "X.shape"
   ]
  },
  {
   "cell_type": "code",
   "execution_count": 121,
   "id": "cb2a65c8",
   "metadata": {},
   "outputs": [
    {
     "name": "stdout",
     "output_type": "stream",
     "text": [
      "69.92143658810326% data is in training set \n",
      "30.07856341189675% data is in test set \n"
     ]
    }
   ],
   "source": [
    "print(\"{}% data is in training set \".format((len(x_train)/len(titanic_data))*100))\n",
    "print(\"{}% data is in test set \".format((len(x_test)/len(titanic_data))*100))"
   ]
  },
  {
   "cell_type": "code",
   "execution_count": 123,
   "id": "bfbe2f03",
   "metadata": {},
   "outputs": [],
   "source": [
    "replace_ = SimpleImputer(missing_values=0,strategy = 'mean')\n",
    "cols = x_train.columns\n",
    "x_train = pd.DataFrame(replace_.fit_transform(x_train))\n",
    "x_test = pd.DataFrame(replace_.fit_transform(x_test))\n",
    "\n",
    "x_train.columns = cols\n",
    "x_test.columns = cols\n"
   ]
  },
  {
   "cell_type": "markdown",
   "id": "cc5db0f9",
   "metadata": {},
   "source": [
    "# the extra code /*"
   ]
  },
  {
   "cell_type": "code",
   "execution_count": 115,
   "id": "21980f08",
   "metadata": {},
   "outputs": [],
   "source": [
    "def standardize(X_tr):\n",
    "    for i in range(shape(X_tr)[1]):\n",
    "        X_tr[:,i] = (X_tr[:,i] - np.mean(X_tr[:,i]))/np.std(X_tr[:,i])"
   ]
  },
  {
   "cell_type": "code",
   "execution_count": 114,
   "id": "d581600b",
   "metadata": {},
   "outputs": [],
   "source": [
    "def initialize(self,X):\n",
    "        weights = np.zeros((shape(X)[1]+1,1))\n",
    "        X = np.c_[np.ones((shape(X)[0],1)),X]\n",
    "        return weights,X"
   ]
  },
  {
   "cell_type": "code",
   "execution_count": 113,
   "id": "18b5e753",
   "metadata": {},
   "outputs": [],
   "source": [
    "def sigmoid(self,z):\n",
    "        sig = 1/(1+e**(-z))\n",
    "        return sig"
   ]
  },
  {
   "cell_type": "code",
   "execution_count": 112,
   "id": "7d4de201",
   "metadata": {},
   "outputs": [],
   "source": [
    "def cost(theta):\n",
    "            z = dot(X,theta)\n",
    "            cost0 = y.T.dot(log(self.sigmoid(z)))\n",
    "            cost1 = (1-y).T.dot(log(1-self.sigmoid(z)))\n",
    "            cost = -((cost1 + cost0))/len(y) \n",
    "            return cost"
   ]
  },
  {
   "cell_type": "code",
   "execution_count": 111,
   "id": "03fdbdc4",
   "metadata": {},
   "outputs": [],
   "source": [
    "def fit(self,X,y,alpha=0.001,iter=100):\n",
    "        params,X = self.initialize(X)\n",
    "        cost_list = np.zeros(iter,)\n",
    "        for i in range(iter):\n",
    "            params = params - alpha * dot(X.T, self.sigmoid(dot(X,params)) - np.reshape(y,(len(y),1)))\n",
    "            cost_list[i] = cost(params)\n",
    "        self.params = params\n",
    "        return cost_list"
   ]
  },
  {
   "cell_type": "code",
   "execution_count": 139,
   "id": "f1c69da2",
   "metadata": {},
   "outputs": [],
   "source": [
    "# def predict(self,X):\n",
    "#         z = dot(self.initialize(X)[1],self.weights)\n",
    "#         lis = []\n",
    "#         for i in self.sigmoid(z):\n",
    "#             if i>0.5:\n",
    "#                 lis.append(1)\n",
    "#             else:\n",
    "#                 lis.append(0)\n",
    "#         return lis"
   ]
  },
  {
   "cell_type": "code",
   "execution_count": 138,
   "id": "9bf82830",
   "metadata": {},
   "outputs": [],
   "source": [
    "# def f1_score(y,y_hat):\n",
    "#     tp,tn,fp,fn = 0,0,0,0\n",
    "#     for i in range(len(y)):\n",
    "#         if y[i] == 1 and y_hat[i] == 1:\n",
    "#             tp += 1\n",
    "#         elif y[i] == 1 and y_hat[i] == 0:\n",
    "#             fn += 1\n",
    "#         elif y[i] == 0 and y_hat[i] == 1:\n",
    "#             fp += 1\n",
    "#         elif y[i] == 0 and y_hat[i] == 0:\n",
    "#             tn += 1\n",
    "#     precision = tp/(tp+fp)\n",
    "#     recall = tp/(tp+fn)\n",
    "#     f1_score = 2*precision*recall/(precision+recall)\n",
    "#     return f1_score"
   ]
  },
  {
   "cell_type": "code",
   "execution_count": 137,
   "id": "594cfb04",
   "metadata": {},
   "outputs": [],
   "source": [
    "# X,y = make_classification(n_featues=4)\n",
    "# from sklearn.model_selection import train_test_split  \n",
    "# X_tr,X_te,y_tr,y_te = train_test_split(X,y,test_size=0.1\n",
    "# def standardize(X_tr):\n",
    "#     for i in range(shape(X_tr)[1]):\n",
    "#         X_tr[:,i] = (X_tr[:,i] - np.mean(X_tr[:,i]))/np.std(X_tr[:,i])\n",
    "# def F1_score(y,y_hat):\n",
    "#     tp,tn,fp,fn = 0,0,0,0\n",
    "#     for i in range(len(y)):\n",
    "#         if y[i] == 1 and y_hat[i] == 1:\n",
    "#             tp += 1\n",
    "#         elif y[i] == 1 and y_hat[i] == 0:\n",
    "#             fn += 1\n",
    "#         elif y[i] == 0 and y_hat[i] == 1:\n",
    "#             fp += 1\n",
    "#         elif y[i] == 0 and y_hat[i] == 0:\n",
    "#             tn += 1\n",
    "#     precision = tp/(tp+fp)\n",
    "#     recall = tp/(tp+fn)\n",
    "#     f1_score = 2*precision*recall/(precision+recall)\n",
    "#     return f1_score\n",
    "# class LogidticRegression:\n",
    "#     def sigmoid(self,z):\n",
    "#         sig = 1/(1+exp(-z))\n",
    "#         return sig\n",
    "#     def initialize(self,X):\n",
    "#         weights = np.zeros((shape(X)[1]+1,1))\n",
    "#         X = np.c_[np.ones((shape(X)[0],1)),X]\n",
    "#         return weights,X\n",
    "#     def fit(self,X,y,alpha=0.001,iter=400):\n",
    "#         weights,X = self.initialize(X)\n",
    "#         def cost(theta):\n",
    "#             z = dot(X,theta)\n",
    "#             cost0 = y.T.dot(log(self.sigmoid(z)))\n",
    "#             cost1 = (1-y).T.dot(log(1-self.sigmoid(z)))\n",
    "#             cost = -((cost1 + cost0))/len(y)\n",
    "#             return cost\n",
    "#         cost_list = np.zeros(iter,)\n",
    "#         for i in range(iter):\n",
    "#             weights = weights - alpha*dot(X.T,self.sigmoid(dot(X,weights))-np.reshape(y,(len(y),1)))\n",
    "#             cost_list[i] = cost(weights)\n",
    "#         self.weights = weights\n",
    "#         return cost_list\n",
    "#     def predict(self,X):\n",
    "#         z = dot(self.initialize(X)[1],self.weights)\n",
    "#         lis = []\n",
    "#         for i in self.sigmoid(z):\n",
    "#             if i>0.5:\n",
    "#                 lis.append(1)\n",
    "#             else:\n",
    "#                 lis.append(0)\n",
    "#         return lis\n",
    "# standardize(X_tr)\n",
    "# standardize(X_te)\n",
    "# obj1 = LogidticRegression()\n",
    "# model= obj1.fit(X_tr,y_tr)\n",
    "# y_pred = obj1.predict(X_te)\n",
    "# y_train = obj1.predict(X_tr)\n",
    "# #Let's see the f1-score for training and testing data\n",
    "# f1_score_tr = F1_score(y_tr,y_train)\n",
    "# f1_score_te = F1_score(y_te,y_pred)\n",
    "# print(f1_score_tr)\n",
    "# print(f1_score_te)"
   ]
  },
  {
   "cell_type": "code",
   "execution_count": 136,
   "id": "f42ef5b3",
   "metadata": {},
   "outputs": [],
   "source": [
    "# from sklearn.linear_model import LogisticRegression\n",
    "# from sklearn.metrics import f1_score\n",
    "# model = LogisticRegression().fit(X_tr,y_tr)\n",
    "# y_pred = model.predict(X_te)\n",
    "# print(f1_score(y_te,y_pred))"
   ]
  },
  {
   "cell_type": "markdown",
   "id": "eefd9131",
   "metadata": {},
   "source": [
    "# till yet */"
   ]
  },
  {
   "cell_type": "code",
   "execution_count": null,
   "id": "6999060a",
   "metadata": {},
   "outputs": [],
   "source": []
  },
  {
   "cell_type": "markdown",
   "id": "8afaf0ba",
   "metadata": {},
   "source": [
    "# the extra code /*"
   ]
  },
  {
   "cell_type": "code",
   "execution_count": 135,
   "id": "34c07850",
   "metadata": {},
   "outputs": [],
   "source": [
    "def sigmoid(z):\n",
    "    return 1.0/(1 + np.exp(-z))"
   ]
  },
  {
   "cell_type": "code",
   "execution_count": 134,
   "id": "e9c37bf7",
   "metadata": {},
   "outputs": [],
   "source": [
    "def loss(Y, y_hat):\n",
    "    loss = -np.mean(y*(np.log(y_hat)) - (1-Y)*np.log(1-y_hat))\n",
    "    return loss"
   ]
  },
  {
   "cell_type": "code",
   "execution_count": 143,
   "id": "24222f3a",
   "metadata": {},
   "outputs": [],
   "source": [
    "# def gradients(X, Y, y_hat):\n",
    "    \n",
    "#     # X --> Input.\n",
    "#     # y --> true/target value.\n",
    "#     # y_hat --> hypothesis/predictions.\n",
    "#     # w --> weights (parameter).\n",
    "#     # b --> bias (parameter).\n",
    "    \n",
    "#     # m-> number of training examples.\n",
    "#     m = X.shape[0]\n",
    "    \n",
    "#     # Gradient of loss w.r.t weights.\n",
    "#     dw = (1/m)*np.dot(X.T, (y_hat - Y))\n",
    "    \n",
    "#     # Gradient of loss w.r.t bias.\n",
    "#     db = (1/m)*np.sum((y_hat - Y)) \n",
    "    \n",
    "#     return dw, db"
   ]
  },
  {
   "cell_type": "code",
   "execution_count": 142,
   "id": "402f266e",
   "metadata": {},
   "outputs": [],
   "source": [
    "# def plot_decision_boundary(X, w, b):\n",
    "    \n",
    "#     # X --> Inputs\n",
    "#     # w --> weights\n",
    "#     # b --> bias\n",
    "    \n",
    "#     # The Line is y=mx+c\n",
    "#     # So, Equate mx+c = w.X + b\n",
    "#     # Solving we find m and c\n",
    "#     x1 = [min(X[:,0]), max(X[:,0])]\n",
    "#     m = -w[0]/w[1]\n",
    "#     c = -b/w[1]\n",
    "#     x2 = m*x1 + c\n",
    "    \n",
    "#     # Plotting\n",
    "#     fig = plt.figure(figsize=(10,8))\n",
    "#     plt.plot(X[:, 0][y==0], X[:, 1][Y==0], \"g^\")\n",
    "#     plt.plot(X[:, 0][y==1], X[:, 1][Y==1], \"bs\")\n",
    "#     plt.xlim([-2, 2])\n",
    "#     plt.ylim([0, 2.2])\n",
    "#     plt.xlabel(\"feature 1\")\n",
    "#     plt.ylabel(\"feature 2\")\n",
    "#     plt.title('Decision Boundary')\n",
    "#     plt.plot(x1, x2, 'y-')"
   ]
  },
  {
   "cell_type": "code",
   "execution_count": 63,
   "id": "298c5de8",
   "metadata": {},
   "outputs": [],
   "source": [
    "def normalize(X):\n",
    "    \n",
    "    # X --> Input.\n",
    "    \n",
    "    # m-> number of training examples\n",
    "    # n-> number of features \n",
    "    m, n = X.shape\n",
    "    \n",
    "    # Normalizing all the n features of X.\n",
    "    for i in range(n):\n",
    "        X = (X - X.mean(axis=0))/X.std(axis=0)\n",
    "        \n",
    "    return X"
   ]
  },
  {
   "cell_type": "code",
   "execution_count": 141,
   "id": "da1ce2ed",
   "metadata": {},
   "outputs": [],
   "source": [
    "# def train(X, Y, bs, epochs, lr):\n",
    "    \n",
    "#     # X --> Input.\n",
    "#     # y --> true/target value.\n",
    "#     # bs --> Batch Size.\n",
    "#     # epochs --> Number of iterations.\n",
    "#     # lr --> Learning rate.\n",
    "        \n",
    "#     # m-> number of training examples\n",
    "#     # n-> number of features \n",
    "#     m, n = X.shape\n",
    "    \n",
    "#     # Initializing weights and bias to zeros.\n",
    "#     w = np.zeros((n,1))\n",
    "#     b = 0\n",
    "    \n",
    "#     # Reshaping y.\n",
    "#     Y = Y.reshape(m,1)\n",
    "    \n",
    "#     # Normalizing the inputs.\n",
    "#     x = normalize(X)\n",
    "    \n",
    "#     # Empty list to store losses.\n",
    "#     losses = []\n",
    "    \n",
    "#     # Training loop.\n",
    "#     for epoch in range(epochs):\n",
    "#         for i in range((m-1)//bs + 1):\n",
    "            \n",
    "#             # Defining batches. SGD.\n",
    "#             start_i = i*bs\n",
    "#             end_i = start_i + bs\n",
    "#             xb = X[start_i:end_i]\n",
    "#             yb = Y[start_i:end_i]\n",
    "            \n",
    "#             # Calculating hypothesis/prediction.\n",
    "#             y_hat = sigmoid(np.dot(xb, w) + b)\n",
    "            \n",
    "#             # Getting the gradients of loss w.r.t parameters.\n",
    "#             dw, db = gradients(xb, yb, y_hat)\n",
    "            \n",
    "#             # Updating the parameters.\n",
    "#             w -= lr*dw\n",
    "#             b -= lr*db\n",
    "        \n",
    "#         # Calculating loss and appending it in the list.\n",
    "#         l = loss(y, sigmoid(np.dot(X, w) + b))\n",
    "#         losses.append(l)\n",
    "        \n",
    "#     # returning weights, bias and losses(List).\n",
    "#     return w, b, losses"
   ]
  },
  {
   "cell_type": "code",
   "execution_count": 140,
   "id": "da811ea5",
   "metadata": {},
   "outputs": [],
   "source": [
    "# def predict(X):\n",
    "    \n",
    "#     # X --> Input.\n",
    "    \n",
    "#     # Normalizing the inputs.\n",
    "#     x = normalize(X)\n",
    "    \n",
    "#     # Calculating presictions/y_hat.\n",
    "#     preds = sigmoid(np.dot(X, w) + b)\n",
    "    \n",
    "#     # Empty List to store predictions.\n",
    "#     pred_class = []\n",
    "#     # if y_hat >= 0.5 --> round up to 1\n",
    "#     # if y_hat < 0.5 --> round up to 1\n",
    "#     pred_class = [1 if i > 0.5 else 0 for i in preds]\n",
    "    \n",
    "#     return np.array(pred_class)"
   ]
  },
  {
   "cell_type": "code",
   "execution_count": 126,
   "id": "00b00091",
   "metadata": {},
   "outputs": [],
   "source": [
    "# w, b, l = train(X, Y, bs=100, epochs=1000, lr=0.01)\n",
    "# # Plotting Decision Boundary\n",
    "# plot_decision_boundary(X, w, b)"
   ]
  },
  {
   "cell_type": "code",
   "execution_count": null,
   "id": "97820a0e",
   "metadata": {},
   "outputs": [],
   "source": []
  },
  {
   "cell_type": "code",
   "execution_count": 125,
   "id": "3f53a267",
   "metadata": {},
   "outputs": [],
   "source": [
    "# def accuracy(Y, y_hat):\n",
    "#     accuracy = np.sum(Y == y_hat) / len(Y)\n",
    "#     return accuracy\n",
    "# accuracy(X, y_hat=predict(X))"
   ]
  }
 ],
 "metadata": {
  "kernelspec": {
   "display_name": "Python 3 (ipykernel)",
   "language": "python",
   "name": "python3"
  },
  "language_info": {
   "codemirror_mode": {
    "name": "ipython",
    "version": 3
   },
   "file_extension": ".py",
   "mimetype": "text/x-python",
   "name": "python",
   "nbconvert_exporter": "python",
   "pygments_lexer": "ipython3",
   "version": "3.9.12"
  }
 },
 "nbformat": 4,
 "nbformat_minor": 5
}
