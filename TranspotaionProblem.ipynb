{
 "cells": [
  {
   "cell_type": "code",
   "execution_count": 17,
   "id": "e8464e91",
   "metadata": {},
   "outputs": [
    {
     "name": "stdout",
     "output_type": "stream",
     "text": [
      "[('walk', 7, 1)]\n"
     ]
    }
   ],
   "source": [
    "# Model of the search problem\n",
    "class TranspotationProblem(object):\n",
    "    def __init__(self,N):\n",
    "        self.N = N\n",
    "    def startstate(self):\n",
    "        return 1\n",
    "    def isEnd(self,state):\n",
    "        return state == self.N\n",
    "    def SuccessorAndCost(self,state):\n",
    "        result = []\n",
    "        if state+1 <= self.N:\n",
    "            result.append(('walk',state+1,1))\n",
    "        if 2*state <= self.N:\n",
    "            result.append(('tram',2*state,2))\n",
    "        return result\n",
    "problem = TranspotationProblem(10)\n",
    "# problem.startstate(2)\n",
    "# problem.isEnd(self)\n",
    "print(problem.SuccessorAndCost(6))"
   ]
  },
  {
   "cell_type": "code",
   "execution_count": null,
   "id": "ca15c85f",
   "metadata": {},
   "outputs": [],
   "source": []
  }
 ],
 "metadata": {
  "kernelspec": {
   "display_name": "Python 3 (ipykernel)",
   "language": "python",
   "name": "python3"
  },
  "language_info": {
   "codemirror_mode": {
    "name": "ipython",
    "version": 3
   },
   "file_extension": ".py",
   "mimetype": "text/x-python",
   "name": "python",
   "nbconvert_exporter": "python",
   "pygments_lexer": "ipython3",
   "version": "3.9.12"
  }
 },
 "nbformat": 4,
 "nbformat_minor": 5
}
